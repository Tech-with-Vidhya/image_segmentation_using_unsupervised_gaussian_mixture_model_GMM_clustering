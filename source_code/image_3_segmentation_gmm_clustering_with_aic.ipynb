{
  "nbformat": 4,
  "nbformat_minor": 0,
  "metadata": {
    "colab": {
      "name": "image_3_segmentation_gmm_clustering_with_aic.ipynb",
      "provenance": [],
      "collapsed_sections": [],
      "machine_shape": "hm"
    },
    "kernelspec": {
      "name": "python3",
      "display_name": "Python 3"
    },
    "language_info": {
      "name": "python"
    },
    "accelerator": "GPU"
  },
  "cells": [
    {
      "cell_type": "markdown",
      "source": [
        "# IMAGE SEGMENTATION USING UNSUPERVISED GAUSSIAN MIXTURE MODEL (GMM) CLUSTERING"
      ],
      "metadata": {
        "id": "gEdN3ne_RHp4"
      }
    },
    {
      "cell_type": "markdown",
      "source": [
        "BSE Image"
      ],
      "metadata": {
        "id": "GjlJcU7boTR8"
      }
    },
    {
      "cell_type": "markdown",
      "source": [
        "## 1. Importing Python Libraries"
      ],
      "metadata": {
        "id": "YaN2ghGNRREU"
      }
    },
    {
      "cell_type": "code",
      "source": [
        "import numpy as np\n",
        "import cv2\n",
        "\n",
        "from sklearn.mixture import GaussianMixture as GMM\n",
        "\n",
        "import matplotlib.pyplot as plt\n",
        "\n",
        "print(\"Python Libraries Import Completed\")"
      ],
      "metadata": {
        "colab": {
          "base_uri": "https://localhost:8080/"
        },
        "id": "EKxle5PuRWln",
        "outputId": "5df9d199-6d3e-43c5-d580-845a7b9434ef"
      },
      "execution_count": 1,
      "outputs": [
        {
          "output_type": "stream",
          "name": "stdout",
          "text": [
            "Python Libraries Import Completed\n"
          ]
        }
      ]
    },
    {
      "cell_type": "markdown",
      "source": [
        "## 2. Importing the Image File"
      ],
      "metadata": {
        "id": "8sMdNRfRTp7b"
      }
    },
    {
      "cell_type": "code",
      "source": [
        "# Importing the Google Drive\n",
        "\n",
        "from google.colab import drive\n",
        "drive.mount('/content/drive')"
      ],
      "metadata": {
        "colab": {
          "base_uri": "https://localhost:8080/"
        },
        "id": "_KiBP2yNkaZh",
        "outputId": "ff981b1f-a2c8-44c2-d5e2-6de8ea5bcdc8"
      },
      "execution_count": 2,
      "outputs": [
        {
          "output_type": "stream",
          "name": "stdout",
          "text": [
            "Mounted at /content/drive\n"
          ]
        }
      ]
    },
    {
      "cell_type": "code",
      "source": [
        "# Importing Image\n",
        "image3 = cv2.imread(\"/content/drive/MyDrive/~~~VP_Data_Science/DS_Real_Time_Projects/Image_Segmentation_Using_UnSupervised_Gaussian_Mixture_Model_GMM_Clustering/data/BSE.jpg\")\n",
        "\n",
        "print(\"Image Import Completed\")"
      ],
      "metadata": {
        "colab": {
          "base_uri": "https://localhost:8080/"
        },
        "id": "E8dRJfIbTsR5",
        "outputId": "d57dd380-88d9-4d5c-b611-ad886d542541"
      },
      "execution_count": 3,
      "outputs": [
        {
          "output_type": "stream",
          "name": "stdout",
          "text": [
            "Image Import Completed\n"
          ]
        }
      ]
    },
    {
      "cell_type": "markdown",
      "source": [
        "## 3. Image Exploration"
      ],
      "metadata": {
        "id": "ODw0NUMNUP-R"
      }
    },
    {
      "cell_type": "code",
      "source": [
        "# Displaying the Imported Image\n",
        "\n",
        "image3"
      ],
      "metadata": {
        "colab": {
          "base_uri": "https://localhost:8080/"
        },
        "id": "fMhvuXWXUZuT",
        "outputId": "c71b0794-df72-4c16-ea15-61c42c2c21e0"
      },
      "execution_count": 4,
      "outputs": [
        {
          "output_type": "execute_result",
          "data": {
            "text/plain": [
              "array([[[255, 255, 255],\n",
              "        [251, 251, 251],\n",
              "        [253, 253, 253],\n",
              "        ...,\n",
              "        [253, 253, 253],\n",
              "        [254, 254, 254],\n",
              "        [255, 255, 255]],\n",
              "\n",
              "       [[251, 251, 251],\n",
              "        [255, 255, 255],\n",
              "        [255, 255, 255],\n",
              "        ...,\n",
              "        [255, 255, 255],\n",
              "        [255, 255, 255],\n",
              "        [248, 248, 248]],\n",
              "\n",
              "       [[252, 252, 252],\n",
              "        [251, 251, 251],\n",
              "        [167, 167, 167],\n",
              "        ...,\n",
              "        [185, 185, 185],\n",
              "        [254, 254, 254],\n",
              "        [254, 254, 254]],\n",
              "\n",
              "       ...,\n",
              "\n",
              "       [[255, 255, 255],\n",
              "        [254, 254, 254],\n",
              "        [162, 162, 162],\n",
              "        ...,\n",
              "        [217, 217, 217],\n",
              "        [252, 252, 252],\n",
              "        [254, 254, 254]],\n",
              "\n",
              "       [[246, 246, 246],\n",
              "        [255, 255, 255],\n",
              "        [250, 250, 250],\n",
              "        ...,\n",
              "        [255, 255, 255],\n",
              "        [255, 255, 255],\n",
              "        [253, 253, 253]],\n",
              "\n",
              "       [[251, 251, 251],\n",
              "        [255, 255, 255],\n",
              "        [255, 255, 255],\n",
              "        ...,\n",
              "        [255, 255, 255],\n",
              "        [251, 251, 251],\n",
              "        [253, 253, 253]]], dtype=uint8)"
            ]
          },
          "metadata": {},
          "execution_count": 4
        }
      ]
    },
    {
      "cell_type": "code",
      "source": [
        "# Verifying the Type of the Image\n",
        "\n",
        "type(image3)"
      ],
      "metadata": {
        "colab": {
          "base_uri": "https://localhost:8080/"
        },
        "id": "jgTUTlUcUo0J",
        "outputId": "5eb23fdb-1c77-4091-d1b0-cd08989df152"
      },
      "execution_count": 5,
      "outputs": [
        {
          "output_type": "execute_result",
          "data": {
            "text/plain": [
              "numpy.ndarray"
            ]
          },
          "metadata": {},
          "execution_count": 5
        }
      ]
    },
    {
      "cell_type": "code",
      "source": [
        "# Verifying the Shape of the Image\n",
        "\n",
        "image3.shape"
      ],
      "metadata": {
        "colab": {
          "base_uri": "https://localhost:8080/"
        },
        "id": "YH3DfZoDU1nE",
        "outputId": "9fb1f8c6-7b27-4d23-f1a1-347c27081a93"
      },
      "execution_count": 6,
      "outputs": [
        {
          "output_type": "execute_result",
          "data": {
            "text/plain": [
              "(751, 1000, 3)"
            ]
          },
          "metadata": {},
          "execution_count": 6
        }
      ]
    },
    {
      "cell_type": "markdown",
      "source": [
        "## 4. Image Pre-Processing (Reshaping)"
      ],
      "metadata": {
        "id": "oCN-sqpRVEHF"
      }
    },
    {
      "cell_type": "code",
      "source": [
        "# Reshaping the Image\n",
        "\n",
        "#image3_reshape = image3.reshape(751, 1000, 3)\n",
        "image3_reshape = image3.reshape((-1, 3))\n",
        "\n",
        "print(\"Execution Completed\")"
      ],
      "metadata": {
        "colab": {
          "base_uri": "https://localhost:8080/"
        },
        "id": "FF2DDCQsVKo5",
        "outputId": "ea5893c8-1265-4b52-ca0a-0c5abb0b78e8"
      },
      "execution_count": 8,
      "outputs": [
        {
          "output_type": "stream",
          "name": "stdout",
          "text": [
            "Execution Completed\n"
          ]
        }
      ]
    },
    {
      "cell_type": "code",
      "source": [
        "# Displaying the Reshaped Image\n",
        "image3_reshape"
      ],
      "metadata": {
        "colab": {
          "base_uri": "https://localhost:8080/"
        },
        "id": "zxljrmNKVSjd",
        "outputId": "e58dbe07-4b56-4d82-944e-dac149bee7f5"
      },
      "execution_count": 9,
      "outputs": [
        {
          "output_type": "execute_result",
          "data": {
            "text/plain": [
              "array([[255, 255, 255],\n",
              "       [251, 251, 251],\n",
              "       [253, 253, 253],\n",
              "       ...,\n",
              "       [255, 255, 255],\n",
              "       [251, 251, 251],\n",
              "       [253, 253, 253]], dtype=uint8)"
            ]
          },
          "metadata": {},
          "execution_count": 9
        }
      ]
    },
    {
      "cell_type": "code",
      "source": [
        "# Verifying the Type of the Reshaped Image\n",
        "\n",
        "type(image3_reshape)"
      ],
      "metadata": {
        "colab": {
          "base_uri": "https://localhost:8080/"
        },
        "id": "PCQpsQ6DVaxI",
        "outputId": "6bf53fbb-b7c3-4071-8f71-4b979b748103"
      },
      "execution_count": 10,
      "outputs": [
        {
          "output_type": "execute_result",
          "data": {
            "text/plain": [
              "numpy.ndarray"
            ]
          },
          "metadata": {},
          "execution_count": 10
        }
      ]
    },
    {
      "cell_type": "code",
      "source": [
        "# Verifying the Shape of the Reshaped Image\n",
        "\n",
        "image3_reshape.shape"
      ],
      "metadata": {
        "colab": {
          "base_uri": "https://localhost:8080/"
        },
        "id": "V8ZjhOBAVa7O",
        "outputId": "97fb8989-70a3-4e27-a82d-4df3d29f745e"
      },
      "execution_count": 11,
      "outputs": [
        {
          "output_type": "execute_result",
          "data": {
            "text/plain": [
              "(751000, 3)"
            ]
          },
          "metadata": {},
          "execution_count": 11
        }
      ]
    },
    {
      "cell_type": "markdown",
      "source": [
        "## 5. UnSupervised Clustering - Gaussian Mixture Model Fitting"
      ],
      "metadata": {
        "id": "nbYAWM3pWRTO"
      }
    },
    {
      "cell_type": "markdown",
      "source": [
        "### 5.1 GMM Clustering Initial Parameters Configuration"
      ],
      "metadata": {
        "id": "ajOxc8EVWyg2"
      }
    },
    {
      "cell_type": "code",
      "source": [
        "# GMM Parameters Initial Configuration\n",
        "\n",
        "n_components = 5\n",
        "covariance_type = \"tied\"\n",
        "tol = 0.001\n",
        "reg_covar = 0.000001\n",
        "max_iter = 100\n",
        "n_init = 1\n",
        "init_params = \"kmeans\"\n",
        "weights_init = None\n",
        "means_init = None\n",
        "precisions_init = None\n",
        "random_state = None\n",
        "warm_start = False\n",
        "verbose = 0\n",
        "verbose_interval = 10\n",
        "\n",
        "print(\"Execution Completed\")"
      ],
      "metadata": {
        "colab": {
          "base_uri": "https://localhost:8080/"
        },
        "id": "xm0NBoZjWZiT",
        "outputId": "7a877aef-7c2a-4608-e069-9b2672bca26e"
      },
      "execution_count": 14,
      "outputs": [
        {
          "output_type": "stream",
          "name": "stdout",
          "text": [
            "Execution Completed\n"
          ]
        }
      ]
    },
    {
      "cell_type": "markdown",
      "source": [
        "### 5.2 GMM Clustering Model Definition and Initiation"
      ],
      "metadata": {
        "id": "J5kuctJPXWko"
      }
    },
    {
      "cell_type": "code",
      "source": [
        "# Defining and Initiating an Instance of GMM Clustering Model\n",
        "\n",
        "gmm_model = GMM(n_components=n_components, covariance_type=covariance_type, tol=tol, reg_covar=reg_covar, \n",
        "                 max_iter=max_iter, n_init=n_init, init_params=init_params, weights_init=weights_init, \n",
        "                 means_init=means_init, precisions_init=precisions_init, random_state=random_state, \n",
        "                 warm_start=warm_start, verbose=verbose, verbose_interval=verbose_interval)\n",
        "\n",
        "print(\"Execution Completed\")"
      ],
      "metadata": {
        "colab": {
          "base_uri": "https://localhost:8080/"
        },
        "id": "LdUmQRzxXer-",
        "outputId": "495e50cd-cfa6-40b0-b76f-7f1f117b11ee"
      },
      "execution_count": 15,
      "outputs": [
        {
          "output_type": "stream",
          "name": "stdout",
          "text": [
            "Execution Completed\n"
          ]
        }
      ]
    },
    {
      "cell_type": "markdown",
      "source": [
        "### 5.3 GMM Clustering Model Fitting"
      ],
      "metadata": {
        "id": "s3uphdfUYPnG"
      }
    },
    {
      "cell_type": "code",
      "source": [
        "# Fitting the GMM Clustering Model\n",
        "\n",
        "print(\"GMM Clustering Model Training Started...\")\n",
        "\n",
        "gmm_model.fit(image3_reshape)\n",
        "\n",
        "print(\"GMM Clustering Model Training Completed...\")"
      ],
      "metadata": {
        "colab": {
          "base_uri": "https://localhost:8080/"
        },
        "id": "ZARGXcfjYUp5",
        "outputId": "54649ce0-90c1-4606-be94-1d2dee3ddd9e"
      },
      "execution_count": 16,
      "outputs": [
        {
          "output_type": "stream",
          "name": "stdout",
          "text": [
            "GMM Clustering Model Training Started...\n",
            "GMM Clustering Model Training Completed...\n"
          ]
        }
      ]
    },
    {
      "cell_type": "markdown",
      "source": [
        "### 5.3 GMM Clustering Model Predictions"
      ],
      "metadata": {
        "id": "CgodpKP-YqAR"
      }
    },
    {
      "cell_type": "code",
      "source": [
        "# Evaluating the GMM Clustering Model Predictions\n",
        "\n",
        "gmm_image3_predictions = gmm_model.predict(image3_reshape)\n",
        "\n",
        "print(\"Execution Completed\")"
      ],
      "metadata": {
        "colab": {
          "base_uri": "https://localhost:8080/"
        },
        "id": "W8feozmYYwSf",
        "outputId": "bb3c5139-aa03-4224-aefa-8870e768f3f4"
      },
      "execution_count": 17,
      "outputs": [
        {
          "output_type": "stream",
          "name": "stdout",
          "text": [
            "Execution Completed\n"
          ]
        }
      ]
    },
    {
      "cell_type": "code",
      "source": [
        "# Displaying the Prediction Results\n",
        "\n",
        "gmm_image3_predictions"
      ],
      "metadata": {
        "colab": {
          "base_uri": "https://localhost:8080/"
        },
        "id": "9bWW7lxmZEb_",
        "outputId": "2507f96a-1ec8-4fe0-e606-19557b814c1b"
      },
      "execution_count": 18,
      "outputs": [
        {
          "output_type": "execute_result",
          "data": {
            "text/plain": [
              "array([1, 1, 1, ..., 1, 1, 1])"
            ]
          },
          "metadata": {},
          "execution_count": 18
        }
      ]
    },
    {
      "cell_type": "code",
      "source": [
        "# verifying the Shape of the Predictions Array\n",
        "\n",
        "gmm_image3_predictions.shape"
      ],
      "metadata": {
        "colab": {
          "base_uri": "https://localhost:8080/"
        },
        "id": "0Aww5BOBelG6",
        "outputId": "a1cfd016-8812-4367-eeb9-85ee6bbe4314"
      },
      "execution_count": 19,
      "outputs": [
        {
          "output_type": "execute_result",
          "data": {
            "text/plain": [
              "(751000,)"
            ]
          },
          "metadata": {},
          "execution_count": 19
        }
      ]
    },
    {
      "cell_type": "markdown",
      "source": [
        "### 5.4 Evaluating the Predictions Results"
      ],
      "metadata": {
        "id": "Dtup1dhOeHxF"
      }
    },
    {
      "cell_type": "code",
      "source": [
        "# Extracting the Original Image Shape before Reshaping\n",
        "original_image3_shape = image3.shape\n",
        "\n",
        "original_image3_shape"
      ],
      "metadata": {
        "colab": {
          "base_uri": "https://localhost:8080/"
        },
        "id": "hrF8PgUeeOHn",
        "outputId": "1396c732-f812-415c-88a1-2a5ee20224bd"
      },
      "execution_count": 20,
      "outputs": [
        {
          "output_type": "execute_result",
          "data": {
            "text/plain": [
              "(751, 1000, 3)"
            ]
          },
          "metadata": {},
          "execution_count": 20
        }
      ]
    },
    {
      "cell_type": "code",
      "source": [
        "original_image3_shape[0]"
      ],
      "metadata": {
        "colab": {
          "base_uri": "https://localhost:8080/"
        },
        "id": "0rtp2VVAfxtR",
        "outputId": "fde58412-59ad-4b30-a6b0-0cc4df5ebdc4"
      },
      "execution_count": 21,
      "outputs": [
        {
          "output_type": "execute_result",
          "data": {
            "text/plain": [
              "751"
            ]
          },
          "metadata": {},
          "execution_count": 21
        }
      ]
    },
    {
      "cell_type": "code",
      "source": [
        "original_image3_shape[1]"
      ],
      "metadata": {
        "colab": {
          "base_uri": "https://localhost:8080/"
        },
        "id": "tL1IHz9lfx3u",
        "outputId": "bfdb13aa-6c86-4f17-8c2e-8cf16b6dd240"
      },
      "execution_count": 22,
      "outputs": [
        {
          "output_type": "execute_result",
          "data": {
            "text/plain": [
              "1000"
            ]
          },
          "metadata": {},
          "execution_count": 22
        }
      ]
    },
    {
      "cell_type": "code",
      "source": [
        "original_image3_shape[2]"
      ],
      "metadata": {
        "colab": {
          "base_uri": "https://localhost:8080/"
        },
        "id": "KB5eNRxhfyFz",
        "outputId": "38af253d-0902-426a-9006-e76f3037ea07"
      },
      "execution_count": 23,
      "outputs": [
        {
          "output_type": "execute_result",
          "data": {
            "text/plain": [
              "3"
            ]
          },
          "metadata": {},
          "execution_count": 23
        }
      ]
    },
    {
      "cell_type": "code",
      "source": [
        "# Reshaping the Original Image with the Predicted Cluster Labels\n",
        "\n",
        "segmented_array3 = gmm_image3_predictions.reshape(original_image3_shape[0], original_image3_shape[1])\n",
        "\n",
        "print(\"Execution Completed\")"
      ],
      "metadata": {
        "colab": {
          "base_uri": "https://localhost:8080/"
        },
        "id": "5Vkf3L0Jec1y",
        "outputId": "3fa3d22d-b907-4afb-8645-6283a01be2ab"
      },
      "execution_count": 24,
      "outputs": [
        {
          "output_type": "stream",
          "name": "stdout",
          "text": [
            "Execution Completed\n"
          ]
        }
      ]
    },
    {
      "cell_type": "code",
      "source": [
        "# Displaying the Reshaped Segmented Array with Predictions \n",
        "\n",
        "segmented_array3"
      ],
      "metadata": {
        "colab": {
          "base_uri": "https://localhost:8080/"
        },
        "id": "_AKzO7KxgP04",
        "outputId": "5b903919-7913-41ff-c1b1-dd0772c0399f"
      },
      "execution_count": 25,
      "outputs": [
        {
          "output_type": "execute_result",
          "data": {
            "text/plain": [
              "array([[1, 1, 1, ..., 1, 1, 1],\n",
              "       [1, 1, 1, ..., 1, 1, 1],\n",
              "       [1, 1, 4, ..., 4, 1, 1],\n",
              "       ...,\n",
              "       [1, 1, 4, ..., 1, 1, 1],\n",
              "       [1, 1, 1, ..., 1, 1, 1],\n",
              "       [1, 1, 1, ..., 1, 1, 1]])"
            ]
          },
          "metadata": {},
          "execution_count": 25
        }
      ]
    },
    {
      "cell_type": "code",
      "source": [
        "# Verifying the Shape of the Reshaped Segmented Array with Predictions \n",
        "\n",
        "segmented_array3.shape"
      ],
      "metadata": {
        "colab": {
          "base_uri": "https://localhost:8080/"
        },
        "id": "ipsosyZYgYEf",
        "outputId": "356914f6-c9b4-457c-931b-40192af2ac22"
      },
      "execution_count": 26,
      "outputs": [
        {
          "output_type": "execute_result",
          "data": {
            "text/plain": [
              "(751, 1000)"
            ]
          },
          "metadata": {},
          "execution_count": 26
        }
      ]
    },
    {
      "cell_type": "code",
      "source": [
        "# Verifying the First Data Instance of the Reshaped Segmented Array with Predictions \n",
        "\n",
        "segmented_array3[0]"
      ],
      "metadata": {
        "colab": {
          "base_uri": "https://localhost:8080/"
        },
        "id": "3n7_-vBGgt0G",
        "outputId": "98746b7f-dfa1-46d9-c889-4004b98283cf"
      },
      "execution_count": 27,
      "outputs": [
        {
          "output_type": "execute_result",
          "data": {
            "text/plain": [
              "array([1, 1, 1, 1, 1, 1, 1, 1, 1, 1, 1, 1, 1, 1, 1, 1, 1, 1, 1, 1, 1, 1,\n",
              "       1, 1, 1, 1, 1, 1, 1, 1, 1, 1, 1, 1, 1, 1, 1, 1, 1, 1, 1, 1, 1, 1,\n",
              "       1, 1, 1, 1, 1, 1, 1, 1, 1, 1, 1, 1, 1, 1, 1, 1, 1, 1, 1, 1, 1, 1,\n",
              "       1, 1, 1, 1, 1, 1, 1, 1, 1, 1, 1, 1, 1, 1, 1, 1, 1, 1, 1, 1, 1, 1,\n",
              "       1, 1, 1, 1, 1, 1, 1, 1, 1, 1, 1, 1, 1, 1, 1, 1, 1, 1, 1, 1, 1, 1,\n",
              "       1, 1, 1, 1, 1, 1, 1, 1, 1, 1, 1, 1, 1, 1, 1, 1, 1, 1, 1, 1, 1, 1,\n",
              "       1, 1, 1, 1, 1, 1, 1, 1, 1, 1, 1, 1, 1, 1, 1, 1, 1, 1, 1, 1, 1, 1,\n",
              "       1, 1, 1, 1, 1, 1, 1, 1, 1, 1, 1, 1, 1, 1, 1, 1, 1, 1, 1, 1, 1, 1,\n",
              "       1, 1, 1, 1, 1, 1, 1, 1, 1, 1, 1, 1, 1, 1, 1, 1, 1, 1, 1, 1, 1, 1,\n",
              "       1, 1, 1, 1, 1, 1, 1, 1, 1, 1, 1, 1, 1, 1, 1, 1, 1, 1, 1, 1, 1, 1,\n",
              "       1, 1, 1, 1, 1, 1, 1, 1, 1, 1, 1, 1, 1, 1, 1, 1, 1, 1, 1, 1, 1, 1,\n",
              "       1, 1, 1, 1, 1, 1, 1, 1, 1, 1, 1, 1, 1, 1, 1, 1, 1, 1, 1, 1, 1, 1,\n",
              "       1, 1, 1, 1, 1, 1, 1, 1, 1, 1, 1, 1, 1, 1, 1, 1, 1, 1, 1, 1, 1, 1,\n",
              "       1, 1, 1, 1, 1, 1, 1, 1, 1, 1, 1, 1, 1, 1, 1, 1, 1, 1, 1, 1, 1, 1,\n",
              "       1, 1, 1, 1, 1, 1, 1, 1, 1, 1, 1, 1, 1, 1, 1, 1, 1, 1, 1, 1, 1, 1,\n",
              "       1, 1, 1, 1, 1, 1, 1, 1, 1, 1, 1, 1, 1, 1, 1, 1, 1, 1, 1, 1, 1, 1,\n",
              "       1, 1, 1, 1, 1, 1, 1, 1, 1, 1, 1, 1, 1, 1, 1, 1, 1, 1, 1, 1, 1, 1,\n",
              "       1, 1, 1, 1, 1, 1, 1, 1, 1, 1, 1, 1, 1, 1, 1, 1, 1, 1, 1, 1, 1, 1,\n",
              "       1, 1, 1, 1, 1, 1, 1, 1, 1, 1, 1, 1, 1, 1, 1, 1, 1, 1, 1, 1, 1, 1,\n",
              "       1, 1, 1, 1, 1, 1, 1, 1, 1, 1, 1, 1, 1, 1, 1, 1, 1, 1, 1, 1, 1, 1,\n",
              "       1, 1, 1, 1, 1, 1, 1, 1, 1, 1, 1, 1, 1, 1, 1, 1, 1, 1, 1, 1, 1, 1,\n",
              "       1, 1, 1, 1, 1, 1, 1, 1, 1, 1, 1, 1, 1, 1, 1, 1, 1, 1, 1, 1, 1, 1,\n",
              "       1, 1, 1, 1, 1, 1, 1, 1, 1, 1, 1, 1, 1, 1, 1, 1, 1, 1, 1, 1, 1, 1,\n",
              "       1, 1, 1, 1, 1, 1, 1, 1, 1, 1, 1, 1, 1, 1, 1, 1, 1, 1, 1, 1, 1, 1,\n",
              "       1, 1, 1, 1, 1, 1, 1, 1, 1, 1, 1, 1, 1, 1, 1, 1, 1, 1, 1, 1, 1, 1,\n",
              "       1, 1, 1, 1, 1, 1, 1, 1, 1, 1, 1, 1, 1, 1, 1, 1, 1, 1, 1, 1, 1, 1,\n",
              "       1, 1, 1, 1, 1, 1, 1, 1, 1, 1, 1, 1, 1, 1, 1, 1, 1, 1, 1, 1, 1, 1,\n",
              "       1, 1, 1, 1, 1, 1, 1, 1, 1, 1, 1, 1, 1, 1, 1, 1, 1, 1, 1, 1, 1, 1,\n",
              "       1, 1, 1, 1, 1, 1, 1, 1, 1, 1, 1, 1, 1, 1, 1, 1, 1, 1, 1, 1, 1, 1,\n",
              "       1, 1, 1, 1, 1, 1, 1, 1, 1, 1, 1, 1, 1, 1, 1, 1, 1, 1, 1, 1, 1, 1,\n",
              "       1, 1, 1, 1, 1, 1, 1, 1, 1, 1, 1, 1, 1, 1, 1, 1, 1, 1, 1, 1, 1, 1,\n",
              "       1, 1, 1, 1, 1, 1, 1, 1, 1, 1, 1, 1, 1, 1, 1, 1, 1, 1, 1, 1, 1, 1,\n",
              "       1, 1, 1, 1, 1, 1, 1, 1, 1, 1, 1, 1, 1, 1, 1, 1, 1, 1, 1, 1, 1, 1,\n",
              "       1, 1, 1, 1, 1, 1, 1, 1, 1, 1, 1, 1, 1, 1, 1, 1, 1, 1, 1, 1, 1, 1,\n",
              "       1, 1, 1, 1, 1, 1, 1, 1, 1, 1, 1, 1, 1, 1, 1, 1, 1, 1, 1, 1, 1, 1,\n",
              "       1, 1, 1, 1, 1, 1, 1, 1, 1, 1, 1, 1, 1, 1, 1, 1, 1, 1, 1, 1, 1, 1,\n",
              "       1, 1, 1, 1, 1, 1, 1, 1, 1, 1, 1, 1, 1, 1, 1, 1, 1, 1, 1, 1, 1, 1,\n",
              "       1, 1, 1, 1, 1, 1, 1, 1, 1, 1, 1, 1, 1, 1, 1, 1, 1, 1, 1, 1, 1, 1,\n",
              "       1, 1, 1, 1, 1, 1, 1, 1, 1, 1, 1, 1, 1, 1, 1, 1, 1, 1, 1, 1, 1, 1,\n",
              "       1, 1, 1, 1, 1, 1, 1, 1, 1, 1, 1, 1, 1, 1, 1, 1, 1, 1, 1, 1, 1, 1,\n",
              "       1, 1, 1, 1, 1, 1, 1, 1, 1, 1, 1, 1, 1, 1, 1, 1, 1, 1, 1, 1, 1, 1,\n",
              "       1, 1, 1, 1, 1, 1, 1, 1, 1, 1, 1, 1, 1, 1, 1, 1, 1, 1, 1, 1, 1, 1,\n",
              "       1, 1, 1, 1, 1, 1, 1, 1, 1, 1, 1, 1, 1, 1, 1, 1, 1, 1, 1, 1, 1, 1,\n",
              "       1, 1, 1, 1, 1, 1, 1, 1, 1, 1, 1, 1, 1, 1, 1, 1, 1, 1, 1, 1, 1, 1,\n",
              "       1, 1, 1, 1, 1, 1, 1, 1, 1, 1, 1, 1, 1, 1, 1, 1, 1, 1, 1, 1, 1, 1,\n",
              "       1, 1, 1, 1, 1, 1, 1, 1, 1, 1])"
            ]
          },
          "metadata": {},
          "execution_count": 27
        }
      ]
    },
    {
      "cell_type": "code",
      "source": [
        "# Verifying the Shape of the First Data Instance of the Reshaped Segmented Array with Predictions \n",
        "\n",
        "segmented_array3[0].shape"
      ],
      "metadata": {
        "colab": {
          "base_uri": "https://localhost:8080/"
        },
        "id": "VmyInR7Yg2Tq",
        "outputId": "fed35cde-edeb-4c30-8585-09500fb326cb"
      },
      "execution_count": 28,
      "outputs": [
        {
          "output_type": "execute_result",
          "data": {
            "text/plain": [
              "(1000,)"
            ]
          },
          "metadata": {},
          "execution_count": 28
        }
      ]
    },
    {
      "cell_type": "markdown",
      "source": [
        "### 5.5 Visualizing the Segmented Image with Clusters"
      ],
      "metadata": {
        "id": "rNVPwGHchSpd"
      }
    },
    {
      "cell_type": "code",
      "source": [
        "# Visualizing the Segmented Image\n",
        "\n",
        "segmented_image3 = cv2.imwrite(\"/content/drive/MyDrive/~~~VP_Data_Science/DS_Real_Time_Projects/Image_Segmentation_Using_UnSupervised_Gaussian_Mixture_Model_GMM_Clustering/results/segmented_BSE.jpg\", segmented_array3)\n",
        "\n",
        "print(\"Segmented Image Export Completed\")"
      ],
      "metadata": {
        "colab": {
          "base_uri": "https://localhost:8080/"
        },
        "id": "QRi3xEOZhQrc",
        "outputId": "8caf0f72-c6cc-4159-d535-3cab1691a992"
      },
      "execution_count": 29,
      "outputs": [
        {
          "output_type": "stream",
          "name": "stdout",
          "text": [
            "Segmented Image Export Completed\n"
          ]
        }
      ]
    },
    {
      "cell_type": "markdown",
      "source": [
        "## 6. Identification of the Optimal Number of Segments/Clusters (Hyper Parameters) Using AIC/BIC Methods"
      ],
      "metadata": {
        "id": "aBEEs-eQsEmq"
      }
    },
    {
      "cell_type": "markdown",
      "source": [
        "**AIC - Akaike Information Criterion**\n",
        "\n",
        "AIC = -2/N * LL + 2 * k/N\n",
        "\n",
        "where, \n",
        "\n",
        "*   **N** is the number of examples in the training dataset\n",
        "\n",
        "*   **LL** is the log-likelihood of the model on the training dataset\n",
        "\n",
        "*   **k** is the number of parameters in the model."
      ],
      "metadata": {
        "id": "Fl22HcGI8r6F"
      }
    },
    {
      "cell_type": "markdown",
      "source": [
        "**BIC - Bayesian Information Criterion**\n",
        "\n",
        "BIC = -2 * LL + log(N) * k\n",
        "\n",
        "where, \n",
        "*   **log()** has the base-e called the natural logarithm\n",
        "*   **LL** is the log-likelihood of the model\n",
        "*   **N** is the number of examples in the training dataset of the model\n",
        "*   **k** is the number of parameters in the model"
      ],
      "metadata": {
        "id": "zKW1ZC-49JHB"
      }
    },
    {
      "cell_type": "markdown",
      "source": [
        "### 6.1 AIC Method - GMM Clustering Model Configuration, Definition and Fitting"
      ],
      "metadata": {
        "id": "CpSS_JJBsNxI"
      }
    },
    {
      "cell_type": "code",
      "source": [
        "# GMM Clutering Model Parameters Configuration\n",
        "\n",
        "# Number of Components/Segments/Clusters\n",
        "n_components = np.arange(1, 10)\n",
        "\n",
        "covariance_type = \"tied\"\n",
        "tol = 0.001\n",
        "reg_covar = 0.000001\n",
        "max_iter = 100\n",
        "n_init = 1\n",
        "init_params = \"kmeans\"\n",
        "weights_init = None\n",
        "means_init = None\n",
        "precisions_init = None\n",
        "random_state = None\n",
        "warm_start = False\n",
        "verbose = 0\n",
        "verbose_interval = 10\n",
        "\n",
        "print(\"GMM Clustering Models Training For AIC Started...\")\n",
        "\n",
        "# GMM Clustering Models Definition and Fitting for Various Values of Components Ranging from 1 to 10\n",
        "gmm_models_aic = [GMM(n_components=n, covariance_type=covariance_type, tol=tol, reg_covar=reg_covar, \n",
        "                      max_iter=max_iter, n_init=n_init, init_params=init_params, weights_init=weights_init, \n",
        "                      means_init=means_init, precisions_init=precisions_init, random_state=random_state, \n",
        "                      warm_start=warm_start, verbose=verbose, verbose_interval=verbose_interval).fit(image3_reshape) for n in n_components]\n",
        "\n",
        "print(\"GMM Clustering Models Training For AIC Completed...\")"
      ],
      "metadata": {
        "colab": {
          "base_uri": "https://localhost:8080/"
        },
        "id": "k9Q4T17SsbD-",
        "outputId": "3ca71326-8a4f-41cf-84a4-73f3bf8053d5"
      },
      "execution_count": 30,
      "outputs": [
        {
          "output_type": "stream",
          "name": "stdout",
          "text": [
            "GMM Clustering Models Training For AIC Started...\n",
            "GMM Clustering Models Training For AIC Completed...\n"
          ]
        }
      ]
    },
    {
      "cell_type": "markdown",
      "source": [
        "### 6.2 Displaying the GMM Clustering Models for Various Number of Components"
      ],
      "metadata": {
        "id": "iCUjcqP-vpEk"
      }
    },
    {
      "cell_type": "code",
      "source": [
        "# Displaying the GMM Clustering Models for Various Number of Components\n",
        "\n",
        "gmm_models_aic"
      ],
      "metadata": {
        "colab": {
          "base_uri": "https://localhost:8080/"
        },
        "id": "I7NBkH3WvpTw",
        "outputId": "f39a0c51-c7d7-406d-b6b6-28c5973b8d65"
      },
      "execution_count": 31,
      "outputs": [
        {
          "output_type": "execute_result",
          "data": {
            "text/plain": [
              "[GaussianMixture(covariance_type='tied'),\n",
              " GaussianMixture(covariance_type='tied', n_components=2),\n",
              " GaussianMixture(covariance_type='tied', n_components=3),\n",
              " GaussianMixture(covariance_type='tied', n_components=4),\n",
              " GaussianMixture(covariance_type='tied', n_components=5),\n",
              " GaussianMixture(covariance_type='tied', n_components=6),\n",
              " GaussianMixture(covariance_type='tied', n_components=7),\n",
              " GaussianMixture(covariance_type='tied', n_components=8),\n",
              " GaussianMixture(covariance_type='tied', n_components=9)]"
            ]
          },
          "metadata": {},
          "execution_count": 31
        }
      ]
    },
    {
      "cell_type": "markdown",
      "source": [
        "### 6.3a Method 1 : Displaying the AIC Values Computed for Various Number of Components"
      ],
      "metadata": {
        "id": "w1illKgrxDnO"
      }
    },
    {
      "cell_type": "code",
      "source": [
        "# Method 1 : Displaying the AIC Values Computed for Various Number of Components\n",
        "\n",
        "# Creating an Empty List to Hold the AIC Values for the various Number of Components\n",
        "aic_list = []\n",
        "\n",
        "for m in gmm_models_aic:\n",
        "  aic_value = m.aic(image3_reshape)\n",
        "  aic_list.append(aic_value)\n",
        "\n",
        "# Displaying the List of AIC Values Computed for the various Number of Components\n",
        "aic_list"
      ],
      "metadata": {
        "colab": {
          "base_uri": "https://localhost:8080/"
        },
        "id": "xElcwK8txDuc",
        "outputId": "d86b9256-f451-4fe2-e30e-26c5f60e8063"
      },
      "execution_count": 32,
      "outputs": [
        {
          "output_type": "execute_result",
          "data": {
            "text/plain": [
              "[-8801749.498278813,\n",
              " -8988729.40032883,\n",
              " -9574937.413148759,\n",
              " -9739248.387891244,\n",
              " -9927209.537366437,\n",
              " -9997886.318677211,\n",
              " -9997629.365557076,\n",
              " -10198692.731702276,\n",
              " -10221127.084551424]"
            ]
          },
          "metadata": {},
          "execution_count": 32
        }
      ]
    },
    {
      "cell_type": "markdown",
      "source": [
        "### 6.3b Method 2 : Displaying the AIC Values Computed for Various Number of Components"
      ],
      "metadata": {
        "id": "PEyTHOcoyLkl"
      }
    },
    {
      "cell_type": "code",
      "source": [
        "# Method 2 : Using List Comprehension - Displaying the AIC Values Computed for Various Number of Components\n",
        "\n",
        "aic_list_method2 = [m.aic(image3_reshape) for m in gmm_models_aic]\n",
        "\n",
        "# Displaying the List of AIC Values Computed for the various Number of Components\n",
        "aic_list_method2"
      ],
      "metadata": {
        "colab": {
          "base_uri": "https://localhost:8080/"
        },
        "id": "lyq-ryB8yLsG",
        "outputId": "bd0f7ed5-675f-4c3a-8e4e-e870e60d3545"
      },
      "execution_count": 33,
      "outputs": [
        {
          "output_type": "execute_result",
          "data": {
            "text/plain": [
              "[-8801749.498278813,\n",
              " -8988729.40032883,\n",
              " -9574937.413148759,\n",
              " -9739248.387891244,\n",
              " -9927209.537366437,\n",
              " -9997886.318677211,\n",
              " -9997629.365557076,\n",
              " -10198692.731702276,\n",
              " -10221127.084551424]"
            ]
          },
          "metadata": {},
          "execution_count": 33
        }
      ]
    },
    {
      "cell_type": "markdown",
      "source": [
        "### 6.4 AIC Method - GMM Clustering Models - Visualising AIC Values for Various Number of Components"
      ],
      "metadata": {
        "id": "gm5KBZweu4Zk"
      }
    },
    {
      "cell_type": "code",
      "source": [
        "# Visualising AIC Values for Various Number of Components\n",
        "\n",
        "plt.plot(n_components, aic_list, label='GMM Clustering Model : Number of Components versus AIC')\n",
        "plt.xlabel('Number of Components')\n",
        "plt.ylabel(\"AIC\")\n",
        "\n",
        "# Displaying the Plot Graph\n",
        "plt.show()"
      ],
      "metadata": {
        "colab": {
          "base_uri": "https://localhost:8080/",
          "height": 290
        },
        "id": "wuSG-OWzvKav",
        "outputId": "55f83c3e-c90f-43e2-e085-61b6f4dd1823"
      },
      "execution_count": 35,
      "outputs": [
        {
          "output_type": "display_data",
          "data": {
            "image/png": "[encoded data removed]",
            "text/plain": [
              "<Figure size 432x288 with 1 Axes>"
            ]
          },
          "metadata": {
            "needs_background": "light"
          }
        }
      ]
    },
    {
      "cell_type": "markdown",
      "source": [
        "As we can see from the above AIC results; the optimal number of components can be considered as either 5 or 6.\n",
        "\n",
        "As we have already executed the model with 5 components in the previous section; let's proceed executing with 6 Components/Segments/Clusters as the optimal finalized GMM Clustering Model for illustration purposes."
      ],
      "metadata": {
        "id": "6JU-n_D30Zr9"
      }
    },
    {
      "cell_type": "markdown",
      "source": [
        "## 7. GMM Clustering Optimal Finalized Model Implementation"
      ],
      "metadata": {
        "id": "FPgbNJ2O0xT4"
      }
    },
    {
      "cell_type": "markdown",
      "source": [
        "### 7.1 GMM Clustering Optimal Finalized Model Configuration, Definition and Fitting"
      ],
      "metadata": {
        "id": "6r2_7MIn07PB"
      }
    },
    {
      "cell_type": "code",
      "source": [
        "# GMM Clustering Optimal Finalized Model Configuration, Definition and Fitting\n",
        "\n",
        "# GMM Clutering Model Parameters Configuration\n",
        "\n",
        "# Optimal Finalized Number of Components/Segments/Clusters Identified Using the AIC Method\n",
        "n_components = 6\n",
        "\n",
        "covariance_type = \"tied\"\n",
        "tol = 0.001\n",
        "reg_covar = 0.000001\n",
        "max_iter = 100\n",
        "n_init = 1\n",
        "init_params = \"kmeans\"\n",
        "weights_init = None\n",
        "means_init = None\n",
        "precisions_init = None\n",
        "random_state = None\n",
        "warm_start = False\n",
        "verbose = 0\n",
        "verbose_interval = 10\n",
        "\n",
        "print(\"GMM Clustering Optimal Model Training For AIC Started...\")\n",
        "\n",
        "# GMM Clustering Optimal Finalized Model Definition\n",
        "gmm_model_optimal = GMM(n_components=n_components, covariance_type=covariance_type, tol=tol, reg_covar=reg_covar, \n",
        "                        max_iter=max_iter, n_init=n_init, init_params=init_params, weights_init=weights_init, \n",
        "                        means_init=means_init, precisions_init=precisions_init, random_state=random_state, \n",
        "                        warm_start=warm_start, verbose=verbose, verbose_interval=verbose_interval)\n",
        "\n",
        "# GMM Clustering Optimal Finalized Model Fitting\n",
        "gmm_model_optimal.fit(image3_reshape)\n",
        "\n",
        "print(\"GMM Clustering Optimal Model Training For AIC Completed...\")"
      ],
      "metadata": {
        "colab": {
          "base_uri": "https://localhost:8080/"
        },
        "id": "_61_2sL61GZZ",
        "outputId": "a3c4880a-9713-499b-fca4-2ac0f69a9316"
      },
      "execution_count": 36,
      "outputs": [
        {
          "output_type": "stream",
          "name": "stdout",
          "text": [
            "GMM Clustering Optimal Model Training For AIC Started...\n",
            "GMM Clustering Optimal Model Training For AIC Completed...\n"
          ]
        }
      ]
    },
    {
      "cell_type": "markdown",
      "source": [
        "### 7.2 GMM Clustering Optimal Finalized Model Predictions"
      ],
      "metadata": {
        "id": "2yh2yQp51e7I"
      }
    },
    {
      "cell_type": "code",
      "source": [
        "# Evaluating the Predictions of the GMM Clustering Optimal Finalized Model\n",
        "\n",
        "gmm_image3_optimal_predictions = gmm_model_optimal.predict(image3_reshape)\n",
        "\n",
        "print(\"Execution Completed\")"
      ],
      "metadata": {
        "colab": {
          "base_uri": "https://localhost:8080/"
        },
        "id": "OAhn9-S51lni",
        "outputId": "a71fd17e-94d4-4a69-fc87-66973e593499"
      },
      "execution_count": 37,
      "outputs": [
        {
          "output_type": "stream",
          "name": "stdout",
          "text": [
            "Execution Completed\n"
          ]
        }
      ]
    },
    {
      "cell_type": "code",
      "source": [
        "# Displaying the Predictions of the GMM Clustering Optimal Finalized Model\n",
        "\n",
        "gmm_image3_optimal_predictions"
      ],
      "metadata": {
        "colab": {
          "base_uri": "https://localhost:8080/"
        },
        "id": "82OWsE9R5KMy",
        "outputId": "63600ad4-f543-449e-e8f9-a68624965022"
      },
      "execution_count": 38,
      "outputs": [
        {
          "output_type": "execute_result",
          "data": {
            "text/plain": [
              "array([2, 2, 2, ..., 2, 2, 2])"
            ]
          },
          "metadata": {},
          "execution_count": 38
        }
      ]
    },
    {
      "cell_type": "markdown",
      "source": [
        "### 7.3 Reshaping the Original Image with the Predicted Cluster Labels of the Optimal Finalized GMM Clustering Model"
      ],
      "metadata": {
        "id": "WAGaSU-X13_R"
      }
    },
    {
      "cell_type": "code",
      "source": [
        "# Reshaping the Original Image with the Predicted Cluster Labels of the Optimal Finalized GMM Clustering Model\n",
        "\n",
        "segmented_array3_optimal = gmm_image3_optimal_predictions.reshape(original_image3_shape[0], original_image3_shape[1])\n",
        "\n",
        "# Displaying the Segmented Array with Predictions of the Optimal Finalized GMM Clustering Model\n",
        "segmented_array3_optimal"
      ],
      "metadata": {
        "colab": {
          "base_uri": "https://localhost:8080/"
        },
        "id": "VJXQohQy2Kpb",
        "outputId": "f10178d7-43c6-41fa-f806-a588301412f4"
      },
      "execution_count": 39,
      "outputs": [
        {
          "output_type": "execute_result",
          "data": {
            "text/plain": [
              "array([[2, 2, 2, ..., 2, 2, 2],\n",
              "       [2, 2, 2, ..., 2, 2, 2],\n",
              "       [2, 2, 0, ..., 0, 2, 2],\n",
              "       ...,\n",
              "       [2, 2, 0, ..., 2, 2, 2],\n",
              "       [2, 2, 2, ..., 2, 2, 2],\n",
              "       [2, 2, 2, ..., 2, 2, 2]])"
            ]
          },
          "metadata": {},
          "execution_count": 39
        }
      ]
    },
    {
      "cell_type": "code",
      "source": [
        "# Verifying the Shape of the Segmented Array with Predictions of the Optimal Finalized GMM Clustering Model\n",
        "\n",
        "segmented_array3_optimal.shape"
      ],
      "metadata": {
        "colab": {
          "base_uri": "https://localhost:8080/"
        },
        "id": "OWeP0GkB3BY4",
        "outputId": "f91164d2-8aa9-4727-e9ff-d51d3fca77e4"
      },
      "execution_count": 40,
      "outputs": [
        {
          "output_type": "execute_result",
          "data": {
            "text/plain": [
              "(751, 1000)"
            ]
          },
          "metadata": {},
          "execution_count": 40
        }
      ]
    },
    {
      "cell_type": "code",
      "source": [
        "# Verifying the First Data Instance of the Segmented Array with Predictions of the Optimal Finalized GMM Clustering Model\n",
        "\n",
        "segmented_array3_optimal[0]"
      ],
      "metadata": {
        "colab": {
          "base_uri": "https://localhost:8080/"
        },
        "id": "LkXtrfeS3B31",
        "outputId": "2d56e780-a222-497d-96de-29c569638026"
      },
      "execution_count": 41,
      "outputs": [
        {
          "output_type": "execute_result",
          "data": {
            "text/plain": [
              "array([2, 2, 2, 2, 2, 2, 2, 2, 2, 2, 2, 2, 2, 2, 2, 2, 2, 2, 2, 2, 2, 2,\n",
              "       2, 2, 2, 2, 2, 2, 2, 2, 2, 2, 2, 2, 2, 2, 2, 2, 2, 2, 2, 2, 2, 2,\n",
              "       2, 2, 2, 2, 2, 2, 2, 2, 2, 2, 2, 2, 2, 2, 2, 2, 2, 2, 2, 2, 2, 2,\n",
              "       2, 2, 2, 2, 2, 2, 2, 2, 2, 2, 2, 2, 2, 2, 2, 2, 2, 2, 2, 2, 2, 2,\n",
              "       2, 2, 2, 2, 2, 2, 2, 2, 2, 2, 2, 2, 2, 2, 2, 2, 2, 2, 2, 2, 2, 2,\n",
              "       2, 2, 2, 2, 2, 2, 2, 2, 2, 2, 2, 2, 2, 2, 2, 2, 2, 2, 2, 2, 2, 2,\n",
              "       2, 2, 2, 2, 2, 2, 2, 2, 2, 2, 2, 2, 2, 2, 2, 2, 2, 2, 2, 2, 2, 2,\n",
              "       2, 2, 2, 2, 2, 2, 2, 2, 2, 2, 2, 2, 2, 2, 2, 2, 2, 2, 2, 2, 2, 2,\n",
              "       2, 2, 2, 2, 2, 2, 2, 2, 2, 2, 2, 2, 2, 2, 2, 2, 2, 2, 2, 2, 2, 2,\n",
              "       2, 2, 2, 2, 2, 2, 2, 2, 2, 2, 2, 2, 2, 2, 2, 2, 2, 2, 2, 2, 2, 2,\n",
              "       2, 2, 2, 2, 2, 2, 2, 2, 2, 2, 2, 2, 2, 2, 2, 2, 2, 2, 2, 2, 2, 2,\n",
              "       2, 2, 2, 2, 2, 2, 2, 2, 2, 2, 2, 2, 2, 2, 2, 2, 2, 2, 2, 2, 2, 2,\n",
              "       2, 2, 2, 2, 2, 2, 2, 2, 2, 2, 2, 2, 2, 2, 2, 2, 2, 2, 2, 2, 2, 2,\n",
              "       2, 2, 2, 2, 2, 2, 2, 2, 2, 2, 2, 2, 2, 2, 2, 2, 2, 2, 2, 2, 2, 2,\n",
              "       2, 2, 2, 2, 2, 2, 2, 2, 2, 2, 2, 2, 2, 2, 2, 2, 2, 2, 2, 2, 2, 2,\n",
              "       2, 2, 2, 2, 2, 2, 2, 2, 2, 2, 2, 2, 2, 2, 2, 2, 2, 2, 2, 2, 2, 2,\n",
              "       2, 2, 2, 2, 2, 2, 2, 2, 2, 2, 2, 2, 2, 2, 2, 2, 2, 2, 2, 2, 2, 2,\n",
              "       2, 2, 2, 2, 2, 2, 2, 2, 2, 2, 2, 2, 2, 2, 2, 2, 2, 2, 2, 2, 2, 2,\n",
              "       2, 2, 2, 2, 2, 2, 2, 2, 2, 2, 2, 2, 2, 2, 2, 2, 2, 2, 2, 2, 2, 2,\n",
              "       2, 2, 2, 2, 2, 2, 2, 2, 2, 2, 2, 2, 2, 2, 2, 2, 2, 2, 2, 2, 2, 2,\n",
              "       2, 2, 2, 2, 2, 2, 2, 2, 2, 2, 2, 2, 2, 2, 2, 2, 2, 2, 2, 2, 2, 2,\n",
              "       2, 2, 2, 2, 2, 2, 2, 2, 2, 2, 2, 2, 2, 2, 2, 2, 2, 2, 2, 2, 2, 2,\n",
              "       2, 2, 2, 2, 2, 2, 2, 2, 2, 2, 2, 2, 2, 2, 2, 2, 2, 2, 2, 2, 2, 2,\n",
              "       2, 2, 2, 2, 2, 2, 2, 2, 2, 2, 2, 2, 2, 2, 2, 2, 2, 2, 2, 2, 2, 2,\n",
              "       2, 2, 2, 2, 2, 2, 2, 2, 2, 2, 2, 2, 2, 2, 2, 2, 2, 2, 2, 2, 2, 2,\n",
              "       2, 2, 2, 2, 2, 2, 2, 2, 2, 2, 2, 2, 2, 2, 2, 2, 2, 2, 2, 2, 2, 2,\n",
              "       2, 2, 2, 2, 2, 2, 2, 2, 2, 2, 2, 2, 2, 2, 2, 2, 2, 2, 2, 2, 2, 2,\n",
              "       2, 2, 2, 2, 2, 2, 2, 2, 2, 2, 2, 2, 2, 2, 2, 2, 2, 2, 2, 2, 2, 2,\n",
              "       2, 2, 2, 2, 2, 2, 2, 2, 2, 2, 2, 2, 2, 2, 2, 2, 2, 2, 2, 2, 2, 2,\n",
              "       2, 2, 2, 2, 2, 2, 2, 2, 2, 2, 2, 2, 2, 2, 2, 2, 2, 2, 2, 2, 2, 2,\n",
              "       2, 2, 2, 2, 2, 2, 2, 2, 2, 2, 2, 2, 2, 2, 2, 2, 2, 2, 2, 2, 2, 2,\n",
              "       2, 2, 2, 2, 2, 2, 2, 2, 2, 2, 2, 2, 2, 2, 2, 2, 2, 2, 2, 2, 2, 2,\n",
              "       2, 2, 2, 2, 2, 2, 2, 2, 2, 2, 2, 2, 2, 2, 2, 2, 2, 2, 2, 2, 2, 2,\n",
              "       2, 2, 2, 2, 2, 2, 2, 2, 2, 2, 2, 2, 2, 2, 2, 2, 2, 2, 2, 2, 2, 2,\n",
              "       2, 2, 2, 2, 2, 2, 2, 2, 2, 2, 2, 2, 2, 2, 2, 2, 2, 2, 2, 2, 2, 2,\n",
              "       2, 2, 2, 2, 2, 2, 2, 2, 2, 2, 2, 2, 2, 2, 2, 2, 2, 2, 2, 2, 2, 2,\n",
              "       2, 2, 2, 2, 2, 2, 2, 2, 2, 2, 2, 2, 2, 2, 2, 2, 2, 2, 2, 2, 2, 2,\n",
              "       2, 2, 2, 2, 2, 2, 2, 2, 2, 2, 2, 2, 2, 2, 2, 2, 2, 2, 2, 2, 2, 2,\n",
              "       2, 2, 2, 2, 2, 2, 2, 2, 2, 2, 2, 2, 2, 2, 2, 2, 2, 2, 2, 2, 2, 2,\n",
              "       2, 2, 2, 2, 2, 2, 2, 2, 2, 2, 2, 2, 2, 2, 2, 2, 2, 2, 2, 2, 2, 2,\n",
              "       2, 2, 2, 2, 2, 2, 2, 2, 2, 2, 2, 2, 2, 2, 2, 2, 2, 2, 2, 2, 2, 2,\n",
              "       2, 2, 2, 2, 2, 2, 2, 2, 2, 2, 2, 2, 2, 2, 2, 2, 2, 2, 2, 2, 2, 2,\n",
              "       2, 2, 2, 2, 2, 2, 2, 2, 2, 2, 2, 2, 2, 2, 2, 2, 2, 2, 2, 2, 2, 2,\n",
              "       2, 2, 2, 2, 2, 2, 2, 2, 2, 2, 2, 2, 2, 2, 2, 2, 2, 2, 2, 2, 2, 2,\n",
              "       2, 2, 2, 2, 2, 2, 2, 2, 2, 2, 2, 2, 2, 2, 2, 2, 2, 2, 2, 2, 2, 2,\n",
              "       2, 2, 2, 2, 2, 2, 2, 2, 2, 2])"
            ]
          },
          "metadata": {},
          "execution_count": 41
        }
      ]
    },
    {
      "cell_type": "code",
      "source": [
        "# Verifying the Shape of the First Data Instance of the Segmented Array with Predictions of the Optimal Finalized GMM Clustering Model\n",
        "\n",
        "segmented_array3_optimal[0].shape"
      ],
      "metadata": {
        "colab": {
          "base_uri": "https://localhost:8080/"
        },
        "id": "V92oxh773CLU",
        "outputId": "db660f06-f063-4cc3-ef89-0deb8a2719de"
      },
      "execution_count": 42,
      "outputs": [
        {
          "output_type": "execute_result",
          "data": {
            "text/plain": [
              "(1000,)"
            ]
          },
          "metadata": {},
          "execution_count": 42
        }
      ]
    },
    {
      "cell_type": "markdown",
      "source": [
        "### 7.4 Visualizing the Segmented Image with Clusters for the Optimal Finalized GMM Clustering Model"
      ],
      "metadata": {
        "id": "ALN8nyfA3iG6"
      }
    },
    {
      "cell_type": "code",
      "source": [
        "# Visualizing the Segmented Image with Clusters for the Optimal Finalized GMM Clustering Model\n",
        "\n",
        "segmented_image3_optimal = cv2.imwrite(\"/content/drive/MyDrive/~~~VP_Data_Science/DS_Real_Time_Projects/Image_Segmentation_Using_UnSupervised_Gaussian_Mixture_Model_GMM_Clustering/results/segmented_optimal_BSE.jpg\", segmented_array3_optimal)\n",
        "\n",
        "print(\"Optimal Segmented Image Export Completed\")"
      ],
      "metadata": {
        "colab": {
          "base_uri": "https://localhost:8080/"
        },
        "id": "YX57Mirr3iPX",
        "outputId": "5280bd26-c1ba-4e13-bcbf-ff8eae679d48"
      },
      "execution_count": 43,
      "outputs": [
        {
          "output_type": "stream",
          "name": "stdout",
          "text": [
            "Optimal Segmented Image Export Completed\n"
          ]
        }
      ]
    },
    {
      "cell_type": "markdown",
      "source": [
        "Based on the comparison between the optimal number of components either as 5 or 6; it is observed that the segmented image with 5 components appears to be segmented much closer to the original image when compared with that of the segmented image with 6 components.\n",
        "\n",
        "Hence we can conclude the optimal finalized number of components/segments/clusters as 5 which best represents the original image."
      ],
      "metadata": {
        "id": "XQ6J7_cqJAaO"
      }
    }
  ]
}