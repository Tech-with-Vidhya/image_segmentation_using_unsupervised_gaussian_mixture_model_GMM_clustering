{
  "nbformat": 4,
  "nbformat_minor": 0,
  "metadata": {
    "colab": {
      "name": "image_2_segmentation_gmm_clustering_with_bic.ipynb",
      "provenance": [],
      "collapsed_sections": [],
      "machine_shape": "hm"
    },
    "kernelspec": {
      "name": "python3",
      "display_name": "Python 3"
    },
    "language_info": {
      "name": "python"
    },
    "accelerator": "GPU"
  },
  "cells": [
    {
      "cell_type": "markdown",
      "source": [
        "# IMAGE SEGMENTATION USING UNSUPERVISED GAUSSIAN MIXTURE MODEL (GMM) CLUSTERING"
      ],
      "metadata": {
        "id": "gEdN3ne_RHp4"
      }
    },
    {
      "cell_type": "markdown",
      "source": [
        "Plant Cells Image"
      ],
      "metadata": {
        "id": "GjlJcU7boTR8"
      }
    },
    {
      "cell_type": "markdown",
      "source": [
        "## 1. Importing Python Libraries"
      ],
      "metadata": {
        "id": "YaN2ghGNRREU"
      }
    },
    {
      "cell_type": "code",
      "source": [
        "import numpy as np\n",
        "import cv2\n",
        "\n",
        "from sklearn.mixture import GaussianMixture as GMM\n",
        "\n",
        "import matplotlib.pyplot as plt\n",
        "\n",
        "print(\"Python Libraries Import Completed\")"
      ],
      "metadata": {
        "colab": {
          "base_uri": "https://localhost:8080/"
        },
        "id": "EKxle5PuRWln",
        "outputId": "36e1f947-0764-4c13-f208-87f768e7ef0f"
      },
      "execution_count": 52,
      "outputs": [
        {
          "output_type": "stream",
          "name": "stdout",
          "text": [
            "Python Libraries Import Completed\n"
          ]
        }
      ]
    },
    {
      "cell_type": "markdown",
      "source": [
        "## 2. Importing the Image File"
      ],
      "metadata": {
        "id": "8sMdNRfRTp7b"
      }
    },
    {
      "cell_type": "code",
      "source": [
        "from google.colab import drive\n",
        "drive.mount('/content/drive')"
      ],
      "metadata": {
        "colab": {
          "base_uri": "https://localhost:8080/"
        },
        "id": "_KiBP2yNkaZh",
        "outputId": "c15a617d-89a1-49f5-cc00-c58ff7997539"
      },
      "execution_count": 7,
      "outputs": [
        {
          "output_type": "stream",
          "name": "stdout",
          "text": [
            "Mounted at /content/drive\n"
          ]
        }
      ]
    },
    {
      "cell_type": "code",
      "source": [
        "# Importing Image\n",
        "image2 = cv2.imread(\"/content/drive/MyDrive/~~~VP_Data_Science/DS_Real_Time_Projects/Image_Segmentation_Using_UnSupervised_Gaussian_Mixture_Model_GMM_Clustering/data/plant_cells.jpg\")\n",
        "\n",
        "print(\"Image Import Completed\")"
      ],
      "metadata": {
        "colab": {
          "base_uri": "https://localhost:8080/"
        },
        "id": "E8dRJfIbTsR5",
        "outputId": "6e4f8ed3-99c5-4dee-ba6b-c53a2063b498"
      },
      "execution_count": 8,
      "outputs": [
        {
          "output_type": "stream",
          "name": "stdout",
          "text": [
            "Image Import Completed\n"
          ]
        }
      ]
    },
    {
      "cell_type": "markdown",
      "source": [
        "## 3. Image Exploration"
      ],
      "metadata": {
        "id": "ODw0NUMNUP-R"
      }
    },
    {
      "cell_type": "code",
      "source": [
        "# Displaying the Imported Image\n",
        "\n",
        "image2"
      ],
      "metadata": {
        "colab": {
          "base_uri": "https://localhost:8080/"
        },
        "id": "fMhvuXWXUZuT",
        "outputId": "13247929-d063-48d8-fa48-ba8b9afad8f5"
      },
      "execution_count": 9,
      "outputs": [
        {
          "output_type": "execute_result",
          "data": {
            "text/plain": [
              "array([[[ 16,  93,  49],\n",
              "        [ 15,  94,  50],\n",
              "        [ 17,  96,  52],\n",
              "        ...,\n",
              "        [ 12, 220, 220],\n",
              "        [  0, 215, 218],\n",
              "        [  5, 227, 231]],\n",
              "\n",
              "       [[  9,  86,  42],\n",
              "        [ 11,  88,  44],\n",
              "        [ 12,  91,  47],\n",
              "        ...,\n",
              "        [ 18, 223, 221],\n",
              "        [  2, 217, 218],\n",
              "        [  3, 225, 227]],\n",
              "\n",
              "       [[  7,  82,  38],\n",
              "        [  7,  84,  40],\n",
              "        [ 10,  87,  43],\n",
              "        ...,\n",
              "        [ 25, 226, 223],\n",
              "        [  7, 217, 217],\n",
              "        [  4, 219, 220]],\n",
              "\n",
              "       ...,\n",
              "\n",
              "       [[ 13, 208, 192],\n",
              "        [ 12, 207, 191],\n",
              "        [ 11, 206, 190],\n",
              "        ...,\n",
              "        [ 11, 122,  68],\n",
              "        [  7, 121,  68],\n",
              "        [  4, 121,  66]],\n",
              "\n",
              "       [[ 11, 206, 190],\n",
              "        [ 11, 206, 190],\n",
              "        [ 10, 205, 189],\n",
              "        ...,\n",
              "        [ 11, 122,  70],\n",
              "        [  6, 121,  71],\n",
              "        [  2, 120,  67]],\n",
              "\n",
              "       [[ 10, 205, 189],\n",
              "        [ 10, 205, 189],\n",
              "        [  9, 204, 188],\n",
              "        ...,\n",
              "        [  9, 120,  70],\n",
              "        [  3, 118,  68],\n",
              "        [  0, 115,  64]]], dtype=uint8)"
            ]
          },
          "metadata": {},
          "execution_count": 9
        }
      ]
    },
    {
      "cell_type": "code",
      "source": [
        "# Verifying the Type of the Image\n",
        "\n",
        "type(image2)"
      ],
      "metadata": {
        "colab": {
          "base_uri": "https://localhost:8080/"
        },
        "id": "jgTUTlUcUo0J",
        "outputId": "85783cc4-4104-4b53-c290-6768cfd1eb2b"
      },
      "execution_count": 10,
      "outputs": [
        {
          "output_type": "execute_result",
          "data": {
            "text/plain": [
              "numpy.ndarray"
            ]
          },
          "metadata": {},
          "execution_count": 10
        }
      ]
    },
    {
      "cell_type": "code",
      "source": [
        "# Verifying the Shape of the Image\n",
        "\n",
        "image2.shape"
      ],
      "metadata": {
        "colab": {
          "base_uri": "https://localhost:8080/"
        },
        "id": "YH3DfZoDU1nE",
        "outputId": "47df20b2-2c4d-4c5f-a8fb-b33f17471a77"
      },
      "execution_count": 11,
      "outputs": [
        {
          "output_type": "execute_result",
          "data": {
            "text/plain": [
              "(630, 1200, 3)"
            ]
          },
          "metadata": {},
          "execution_count": 11
        }
      ]
    },
    {
      "cell_type": "markdown",
      "source": [
        "## 4. Image Pre-Processing (Reshaping)"
      ],
      "metadata": {
        "id": "oCN-sqpRVEHF"
      }
    },
    {
      "cell_type": "code",
      "source": [
        "# Reshaping the Image\n",
        "\n",
        "#image2_reshape = image2.reshape(630, 1200, 3)\n",
        "image2_reshape = image2.reshape((-1, 3))\n",
        "\n",
        "print(\"Execution Completed\")"
      ],
      "metadata": {
        "colab": {
          "base_uri": "https://localhost:8080/"
        },
        "id": "FF2DDCQsVKo5",
        "outputId": "d1422fc9-3a73-4e6f-b011-71ca427409e1"
      },
      "execution_count": 12,
      "outputs": [
        {
          "output_type": "stream",
          "name": "stdout",
          "text": [
            "Execution Completed\n"
          ]
        }
      ]
    },
    {
      "cell_type": "code",
      "source": [
        "# Displaying the Reshaped Image\n",
        "image2_reshape"
      ],
      "metadata": {
        "colab": {
          "base_uri": "https://localhost:8080/"
        },
        "id": "zxljrmNKVSjd",
        "outputId": "7d4dc84c-4dbb-48eb-e731-5cfab19c9300"
      },
      "execution_count": 13,
      "outputs": [
        {
          "output_type": "execute_result",
          "data": {
            "text/plain": [
              "array([[ 16,  93,  49],\n",
              "       [ 15,  94,  50],\n",
              "       [ 17,  96,  52],\n",
              "       ...,\n",
              "       [  9, 120,  70],\n",
              "       [  3, 118,  68],\n",
              "       [  0, 115,  64]], dtype=uint8)"
            ]
          },
          "metadata": {},
          "execution_count": 13
        }
      ]
    },
    {
      "cell_type": "code",
      "source": [
        "# Verifying the Type of the Reshaped Image\n",
        "\n",
        "type(image2_reshape)"
      ],
      "metadata": {
        "colab": {
          "base_uri": "https://localhost:8080/"
        },
        "id": "PCQpsQ6DVaxI",
        "outputId": "611a9a8f-cc13-4e33-ae49-88796af61802"
      },
      "execution_count": 14,
      "outputs": [
        {
          "output_type": "execute_result",
          "data": {
            "text/plain": [
              "numpy.ndarray"
            ]
          },
          "metadata": {},
          "execution_count": 14
        }
      ]
    },
    {
      "cell_type": "code",
      "source": [
        "# Verifying the Shape of the Reshaped Image\n",
        "\n",
        "image2_reshape.shape"
      ],
      "metadata": {
        "colab": {
          "base_uri": "https://localhost:8080/"
        },
        "id": "V8ZjhOBAVa7O",
        "outputId": "e6b7e839-b23b-4d54-b7cb-f6db87533ae5"
      },
      "execution_count": 15,
      "outputs": [
        {
          "output_type": "execute_result",
          "data": {
            "text/plain": [
              "(756000, 3)"
            ]
          },
          "metadata": {},
          "execution_count": 15
        }
      ]
    },
    {
      "cell_type": "markdown",
      "source": [
        "## 5. UnSupervised Clustering - Gaussian Mixture Model Fitting"
      ],
      "metadata": {
        "id": "nbYAWM3pWRTO"
      }
    },
    {
      "cell_type": "markdown",
      "source": [
        "### 5.1 GMM Clustering Default Parameters Configuration"
      ],
      "metadata": {
        "id": "ajOxc8EVWyg2"
      }
    },
    {
      "cell_type": "code",
      "source": [
        "# GMM Parameters Initial Configuration\n",
        "\n",
        "n_components = 5\n",
        "covariance_type = \"full\"\n",
        "tol = 0.001\n",
        "reg_covar = 0.000001\n",
        "max_iter = 100\n",
        "n_init = 1\n",
        "init_params = \"kmeans\"\n",
        "weights_init = None\n",
        "means_init = None\n",
        "precisions_init = None\n",
        "random_state = None\n",
        "warm_start = False\n",
        "verbose = 0\n",
        "verbose_interval = 10\n",
        "\n",
        "print(\"Execution Completed\")"
      ],
      "metadata": {
        "colab": {
          "base_uri": "https://localhost:8080/"
        },
        "id": "xm0NBoZjWZiT",
        "outputId": "95fe4a45-c20c-422a-ef84-9cb5bf39247b"
      },
      "execution_count": 35,
      "outputs": [
        {
          "output_type": "stream",
          "name": "stdout",
          "text": [
            "Execution Completed\n"
          ]
        }
      ]
    },
    {
      "cell_type": "markdown",
      "source": [
        "### 5.2 GMM Clustering Model Definition and Initiation"
      ],
      "metadata": {
        "id": "J5kuctJPXWko"
      }
    },
    {
      "cell_type": "code",
      "source": [
        "# Defining and Initiating an Instance of GMM Clustering Model\n",
        "\n",
        "gmm_model = GMM(n_components=n_components, covariance_type=covariance_type, tol=tol, reg_covar=reg_covar, \n",
        "                 max_iter=max_iter, n_init=n_init, init_params=init_params, weights_init=weights_init, \n",
        "                 means_init=means_init, precisions_init=precisions_init, random_state=random_state, \n",
        "                 warm_start=warm_start, verbose=verbose, verbose_interval=verbose_interval)\n",
        "\n",
        "print(\"Execution Completed\")"
      ],
      "metadata": {
        "colab": {
          "base_uri": "https://localhost:8080/"
        },
        "id": "LdUmQRzxXer-",
        "outputId": "e6dadc37-7c55-400f-f228-3f72c4de9b68"
      },
      "execution_count": 36,
      "outputs": [
        {
          "output_type": "stream",
          "name": "stdout",
          "text": [
            "Execution Completed\n"
          ]
        }
      ]
    },
    {
      "cell_type": "markdown",
      "source": [
        "### 5.3 GMM Clustering Model Fitting"
      ],
      "metadata": {
        "id": "s3uphdfUYPnG"
      }
    },
    {
      "cell_type": "code",
      "source": [
        "# Fitting the GMM Clustering Model\n",
        "\n",
        "print(\"GMM Clustering Model Training Started...\")\n",
        "\n",
        "gmm_model.fit(image2_reshape)\n",
        "\n",
        "print(\"GMM Clustering Model Training Completed...\")"
      ],
      "metadata": {
        "colab": {
          "base_uri": "https://localhost:8080/"
        },
        "id": "ZARGXcfjYUp5",
        "outputId": "a0abe765-4f81-4bdf-bbac-df82b0a28782"
      },
      "execution_count": 37,
      "outputs": [
        {
          "output_type": "stream",
          "name": "stdout",
          "text": [
            "GMM Clustering Model Training Started...\n",
            "GMM Clustering Model Training Completed...\n"
          ]
        }
      ]
    },
    {
      "cell_type": "markdown",
      "source": [
        "### 5.3 GMM Clustering Model Predictions"
      ],
      "metadata": {
        "id": "CgodpKP-YqAR"
      }
    },
    {
      "cell_type": "code",
      "source": [
        "# Evaluating the GMM Clustering Model Predictions\n",
        "\n",
        "gmm_image2_predictions = gmm_model.predict(image2_reshape)\n",
        "\n",
        "print(\"Execution Completed\")"
      ],
      "metadata": {
        "colab": {
          "base_uri": "https://localhost:8080/"
        },
        "id": "W8feozmYYwSf",
        "outputId": "829cc5dd-db67-4dd7-e81d-5d0ec59b1983"
      },
      "execution_count": 38,
      "outputs": [
        {
          "output_type": "stream",
          "name": "stdout",
          "text": [
            "Execution Completed\n"
          ]
        }
      ]
    },
    {
      "cell_type": "code",
      "source": [
        "# Displaying the Prediction Results\n",
        "\n",
        "gmm_image2_predictions"
      ],
      "metadata": {
        "colab": {
          "base_uri": "https://localhost:8080/"
        },
        "id": "9bWW7lxmZEb_",
        "outputId": "e50dcb67-c6bb-4ae5-9d6f-4e9c129d9294"
      },
      "execution_count": 39,
      "outputs": [
        {
          "output_type": "execute_result",
          "data": {
            "text/plain": [
              "array([0, 0, 0, ..., 0, 0, 0])"
            ]
          },
          "metadata": {},
          "execution_count": 39
        }
      ]
    },
    {
      "cell_type": "code",
      "source": [
        "# verifying the Shape of the Predictions Array\n",
        "\n",
        "gmm_image2_predictions.shape"
      ],
      "metadata": {
        "colab": {
          "base_uri": "https://localhost:8080/"
        },
        "id": "0Aww5BOBelG6",
        "outputId": "568d46e6-ba25-49af-f679-5dce1ccb2110"
      },
      "execution_count": 40,
      "outputs": [
        {
          "output_type": "execute_result",
          "data": {
            "text/plain": [
              "(756000,)"
            ]
          },
          "metadata": {},
          "execution_count": 40
        }
      ]
    },
    {
      "cell_type": "markdown",
      "source": [
        "### 5.4 Evaluating the Predictions Results"
      ],
      "metadata": {
        "id": "Dtup1dhOeHxF"
      }
    },
    {
      "cell_type": "code",
      "source": [
        "# Extracting the Original Image Shape before Reshaping\n",
        "original_image2_shape = image2.shape\n",
        "\n",
        "original_image2_shape"
      ],
      "metadata": {
        "colab": {
          "base_uri": "https://localhost:8080/"
        },
        "id": "hrF8PgUeeOHn",
        "outputId": "9befe7d6-95e4-47c7-f8af-5959473afd27"
      },
      "execution_count": 41,
      "outputs": [
        {
          "output_type": "execute_result",
          "data": {
            "text/plain": [
              "(630, 1200, 3)"
            ]
          },
          "metadata": {},
          "execution_count": 41
        }
      ]
    },
    {
      "cell_type": "code",
      "source": [
        "original_image2_shape[0]"
      ],
      "metadata": {
        "colab": {
          "base_uri": "https://localhost:8080/"
        },
        "id": "0rtp2VVAfxtR",
        "outputId": "ccad6575-6b30-492a-af08-fb92a2c084e6"
      },
      "execution_count": 42,
      "outputs": [
        {
          "output_type": "execute_result",
          "data": {
            "text/plain": [
              "630"
            ]
          },
          "metadata": {},
          "execution_count": 42
        }
      ]
    },
    {
      "cell_type": "code",
      "source": [
        "original_image2_shape[1]"
      ],
      "metadata": {
        "colab": {
          "base_uri": "https://localhost:8080/"
        },
        "id": "tL1IHz9lfx3u",
        "outputId": "5299c0ab-97c3-4c49-fc78-8bf271aa211d"
      },
      "execution_count": 43,
      "outputs": [
        {
          "output_type": "execute_result",
          "data": {
            "text/plain": [
              "1200"
            ]
          },
          "metadata": {},
          "execution_count": 43
        }
      ]
    },
    {
      "cell_type": "code",
      "source": [
        "original_image2_shape[2]"
      ],
      "metadata": {
        "colab": {
          "base_uri": "https://localhost:8080/"
        },
        "id": "KB5eNRxhfyFz",
        "outputId": "067271f6-3b23-4aa1-a075-114d1bdede30"
      },
      "execution_count": 44,
      "outputs": [
        {
          "output_type": "execute_result",
          "data": {
            "text/plain": [
              "3"
            ]
          },
          "metadata": {},
          "execution_count": 44
        }
      ]
    },
    {
      "cell_type": "code",
      "source": [
        "# Reshaping the Original Image with the Predicted Cluster Labels\n",
        "\n",
        "segmented_array2 = gmm_image2_predictions.reshape(original_image2_shape[0], original_image2_shape[1])\n",
        "\n",
        "print(\"Execution Completed\")"
      ],
      "metadata": {
        "colab": {
          "base_uri": "https://localhost:8080/"
        },
        "id": "5Vkf3L0Jec1y",
        "outputId": "1302fd8d-0e4b-446e-e03d-ecd170f12617"
      },
      "execution_count": 45,
      "outputs": [
        {
          "output_type": "stream",
          "name": "stdout",
          "text": [
            "Execution Completed\n"
          ]
        }
      ]
    },
    {
      "cell_type": "code",
      "source": [
        "# Displaying the Reshaped Segmented Array with Predictions \n",
        "\n",
        "segmented_array2"
      ],
      "metadata": {
        "colab": {
          "base_uri": "https://localhost:8080/"
        },
        "id": "_AKzO7KxgP04",
        "outputId": "56b8a0e6-2959-48b9-8d23-7464a489c816"
      },
      "execution_count": 46,
      "outputs": [
        {
          "output_type": "execute_result",
          "data": {
            "text/plain": [
              "array([[0, 0, 0, ..., 2, 2, 2],\n",
              "       [0, 0, 0, ..., 2, 2, 2],\n",
              "       [0, 0, 0, ..., 2, 2, 2],\n",
              "       ...,\n",
              "       [2, 2, 2, ..., 0, 0, 0],\n",
              "       [2, 2, 2, ..., 0, 0, 0],\n",
              "       [2, 2, 2, ..., 0, 0, 0]])"
            ]
          },
          "metadata": {},
          "execution_count": 46
        }
      ]
    },
    {
      "cell_type": "code",
      "source": [
        "# Verifying the Shape of the Reshaped Segmented Array with Predictions \n",
        "\n",
        "segmented_array2.shape"
      ],
      "metadata": {
        "colab": {
          "base_uri": "https://localhost:8080/"
        },
        "id": "ipsosyZYgYEf",
        "outputId": "b3e60e69-22ff-4fc5-94de-ab458d503e34"
      },
      "execution_count": 47,
      "outputs": [
        {
          "output_type": "execute_result",
          "data": {
            "text/plain": [
              "(630, 1200)"
            ]
          },
          "metadata": {},
          "execution_count": 47
        }
      ]
    },
    {
      "cell_type": "code",
      "source": [
        "# Verifying the First Data Instance of the Reshaped Segmented Array with Predictions \n",
        "\n",
        "segmented_array2[0]"
      ],
      "metadata": {
        "colab": {
          "base_uri": "https://localhost:8080/"
        },
        "id": "3n7_-vBGgt0G",
        "outputId": "41db0b6a-8fb4-4c9d-f164-ce47d277cb8f"
      },
      "execution_count": 48,
      "outputs": [
        {
          "output_type": "execute_result",
          "data": {
            "text/plain": [
              "array([0, 0, 0, ..., 2, 2, 2])"
            ]
          },
          "metadata": {},
          "execution_count": 48
        }
      ]
    },
    {
      "cell_type": "code",
      "source": [
        "# Verifying the Shape of the First Data Instance of the Reshaped Segmented Array with Predictions \n",
        "\n",
        "segmented_array2[0].shape"
      ],
      "metadata": {
        "colab": {
          "base_uri": "https://localhost:8080/"
        },
        "id": "VmyInR7Yg2Tq",
        "outputId": "d5506781-4d81-412d-fe13-2553e44568da"
      },
      "execution_count": 49,
      "outputs": [
        {
          "output_type": "execute_result",
          "data": {
            "text/plain": [
              "(1200,)"
            ]
          },
          "metadata": {},
          "execution_count": 49
        }
      ]
    },
    {
      "cell_type": "markdown",
      "source": [
        "### 5.5 Visualizing the Segmented Image with Clusters"
      ],
      "metadata": {
        "id": "rNVPwGHchSpd"
      }
    },
    {
      "cell_type": "code",
      "source": [
        "# Visualizing the Segmented Image\n",
        "\n",
        "segmented_image2 = cv2.imwrite(\"/content/drive/MyDrive/~~~VP_Data_Science/DS_Real_Time_Projects/Image_Segmentation_Using_UnSupervised_Gaussian_Mixture_Model_GMM_Clustering/results/segmented_plant_cells.jpg\", segmented_array2)\n",
        "\n",
        "print(\"Segmented Image Export Completed\")"
      ],
      "metadata": {
        "colab": {
          "base_uri": "https://localhost:8080/"
        },
        "id": "QRi3xEOZhQrc",
        "outputId": "3ab9265a-4ca9-4b8a-ee9e-36143f948a5e"
      },
      "execution_count": 50,
      "outputs": [
        {
          "output_type": "stream",
          "name": "stdout",
          "text": [
            "Segmented Image Export Completed\n"
          ]
        }
      ]
    },
    {
      "cell_type": "markdown",
      "source": [
        "## 6. Identification of the Optimal Number of Segments/Clusters (Hyper Parameters) Using AIC/BIC Methods"
      ],
      "metadata": {
        "id": "aBEEs-eQsEmq"
      }
    },
    {
      "cell_type": "markdown",
      "source": [
        "**AIC - Akaike Information Criterion**\n",
        "\n",
        "AIC = -2/N * LL + 2 * k/N\n",
        "\n",
        "where, \n",
        "\n",
        "*   **N** is the number of examples in the training dataset\n",
        "\n",
        "*   **LL** is the log-likelihood of the model on the training dataset\n",
        "\n",
        "*   **k** is the number of parameters in the model."
      ],
      "metadata": {
        "id": "Fl22HcGI8r6F"
      }
    },
    {
      "cell_type": "markdown",
      "source": [
        "**BIC - Bayesian Information Criterion**\n",
        "\n",
        "BIC = -2 * LL + log(N) * k\n",
        "\n",
        "where, \n",
        "*   **log()** has the base-e called the natural logarithm\n",
        "*   **LL** is the log-likelihood of the model\n",
        "*   **N** is the number of examples in the training dataset of the model\n",
        "*   **k** is the number of parameters in the model"
      ],
      "metadata": {
        "id": "zKW1ZC-49JHB"
      }
    },
    {
      "cell_type": "markdown",
      "source": [
        "### 6.1 BIC Method - GMM Clustering Model Configuration, Definition and Fitting"
      ],
      "metadata": {
        "id": "CpSS_JJBsNxI"
      }
    },
    {
      "cell_type": "code",
      "source": [
        "# GMM Clutering Model Parameters Configuration\n",
        "\n",
        "# Number of Components/Segments/Clusters\n",
        "n_components = np.arange(1, 10)\n",
        "\n",
        "covariance_type = \"full\"\n",
        "tol = 0.001\n",
        "reg_covar = 0.000001\n",
        "max_iter = 100\n",
        "n_init = 1\n",
        "init_params = \"kmeans\"\n",
        "weights_init = None\n",
        "means_init = None\n",
        "precisions_init = None\n",
        "random_state = None\n",
        "warm_start = False\n",
        "verbose = 0\n",
        "verbose_interval = 10\n",
        "\n",
        "print(\"GMM Clustering Models Training For BIC Started...\")\n",
        "\n",
        "# GMM Clustering Models Definition and Fitting for Various Values of Components Ranging from 1 to 10\n",
        "gmm_models_bic = [GMM(n_components=n, covariance_type=covariance_type, tol=tol, reg_covar=reg_covar, \n",
        "                    max_iter=max_iter, n_init=n_init, init_params=init_params, weights_init=weights_init, \n",
        "                    means_init=means_init, precisions_init=precisions_init, random_state=random_state, \n",
        "                    warm_start=warm_start, verbose=verbose, verbose_interval=verbose_interval).fit(image2_reshape) for n in n_components]\n",
        "\n",
        "print(\"GMM Clustering Models Training For BIC Completed...\")"
      ],
      "metadata": {
        "colab": {
          "base_uri": "https://localhost:8080/"
        },
        "id": "k9Q4T17SsbD-",
        "outputId": "5f22ce9c-fcf8-4b62-e46b-8747628bbda3"
      },
      "execution_count": 53,
      "outputs": [
        {
          "output_type": "stream",
          "name": "stdout",
          "text": [
            "GMM Clustering Models Training For BIC Started...\n",
            "GMM Clustering Models Training For BIC Completed...\n"
          ]
        }
      ]
    },
    {
      "cell_type": "markdown",
      "source": [
        "### 6.2 Displaying the GMM Clustering Models for Various Number of Components"
      ],
      "metadata": {
        "id": "iCUjcqP-vpEk"
      }
    },
    {
      "cell_type": "code",
      "source": [
        "# Displaying the GMM Clustering Models for Various Number of Components\n",
        "\n",
        "gmm_models_bic"
      ],
      "metadata": {
        "colab": {
          "base_uri": "https://localhost:8080/"
        },
        "id": "I7NBkH3WvpTw",
        "outputId": "f0f8b519-3460-40ea-c24b-61ee2af42c66"
      },
      "execution_count": 55,
      "outputs": [
        {
          "output_type": "execute_result",
          "data": {
            "text/plain": [
              "[GaussianMixture(),\n",
              " GaussianMixture(n_components=2),\n",
              " GaussianMixture(n_components=3),\n",
              " GaussianMixture(n_components=4),\n",
              " GaussianMixture(n_components=5),\n",
              " GaussianMixture(n_components=6),\n",
              " GaussianMixture(n_components=7),\n",
              " GaussianMixture(n_components=8),\n",
              " GaussianMixture(n_components=9)]"
            ]
          },
          "metadata": {},
          "execution_count": 55
        }
      ]
    },
    {
      "cell_type": "markdown",
      "source": [
        "### 6.3a Method 1 : Displaying the BIC Values Computed for Various Number of Components"
      ],
      "metadata": {
        "id": "w1illKgrxDnO"
      }
    },
    {
      "cell_type": "code",
      "source": [
        "# Method 1 : Displaying the BIC Values Computed for Various Number of Components\n",
        "\n",
        "# Creating an Empty List to Hold the BIC Values for the various Number of Components\n",
        "bic_list = []\n",
        "\n",
        "for m in gmm_models_bic:\n",
        "  bic_value = m.bic(image2_reshape)\n",
        "  bic_list.append(bic_value)\n",
        "\n",
        "# Displaying the List of BIC Values Computed for the various Number of Components\n",
        "bic_list"
      ],
      "metadata": {
        "colab": {
          "base_uri": "https://localhost:8080/"
        },
        "id": "xElcwK8txDuc",
        "outputId": "95b77913-a38c-4247-e27c-5d1717fe013d"
      },
      "execution_count": 58,
      "outputs": [
        {
          "output_type": "execute_result",
          "data": {
            "text/plain": [
              "[21190241.044149183,\n",
              " 19178904.73408575,\n",
              " 18546167.040850945,\n",
              " 18401655.79604901,\n",
              " 18374479.624260258,\n",
              " 18338880.004568245,\n",
              " 18310492.41434655,\n",
              " 18302028.98364402,\n",
              " 17581275.450687107]"
            ]
          },
          "metadata": {},
          "execution_count": 58
        }
      ]
    },
    {
      "cell_type": "markdown",
      "source": [
        "### 6.3b Method 2 : Displaying the BIC Values Computed for Various Number of Components"
      ],
      "metadata": {
        "id": "PEyTHOcoyLkl"
      }
    },
    {
      "cell_type": "code",
      "source": [
        "# Method 2 : Using List Comprehension - Displaying the BIC Values Computed for Various Number of Components\n",
        "\n",
        "bic_list_method2 = [m.bic(image2_reshape) for m in gmm_models_bic]\n",
        "\n",
        "# Displaying the List of BIC Values Computed for the various Number of Components\n",
        "bic_list_method2"
      ],
      "metadata": {
        "colab": {
          "base_uri": "https://localhost:8080/"
        },
        "id": "lyq-ryB8yLsG",
        "outputId": "a2c2ad2b-1d05-40cd-c571-921eb566fdc9"
      },
      "execution_count": 59,
      "outputs": [
        {
          "output_type": "execute_result",
          "data": {
            "text/plain": [
              "[21190241.044149183,\n",
              " 19178904.73408575,\n",
              " 18546167.040850945,\n",
              " 18401655.79604901,\n",
              " 18374479.624260258,\n",
              " 18338880.004568245,\n",
              " 18310492.41434655,\n",
              " 18302028.98364402,\n",
              " 17581275.450687107]"
            ]
          },
          "metadata": {},
          "execution_count": 59
        }
      ]
    },
    {
      "cell_type": "markdown",
      "source": [
        "### 6.4 BIC Method - GMM Clustering Models - Visualising BIC Values for Various Number of Components"
      ],
      "metadata": {
        "id": "gm5KBZweu4Zk"
      }
    },
    {
      "cell_type": "code",
      "source": [
        "# Visualising BIC Values for Various Number of Components\n",
        "\n",
        "plt.plot(n_components, bic_list, label='GMM Clustering Model : Number of Components versus BIC')\n",
        "plt.xlabel('Number of Components')\n",
        "plt.ylabel(\"BIC\")\n",
        "\n",
        "# Displaying the Plot Graph\n",
        "plt.show()"
      ],
      "metadata": {
        "colab": {
          "base_uri": "https://localhost:8080/",
          "height": 290
        },
        "id": "wuSG-OWzvKav",
        "outputId": "36e24829-0c95-4728-cba9-8ba5b623490b"
      },
      "execution_count": 63,
      "outputs": [
        {
          "output_type": "display_data",
          "data": {
            "image/png": "[encoded data removed]",
            "text/plain": [
              "<Figure size 432x288 with 1 Axes>"
            ]
          },
          "metadata": {
            "needs_background": "light"
          }
        }
      ]
    },
    {
      "cell_type": "markdown",
      "source": [
        "As we can see from the above BIC results; the optimal number of components can be considered as either 3 or 4.\n",
        "\n",
        "Let's proceed executing the optimal finalized GMM Clustering Model with 3 Components/Segments/Clusters."
      ],
      "metadata": {
        "id": "6JU-n_D30Zr9"
      }
    },
    {
      "cell_type": "markdown",
      "source": [
        "## 7. GMM Clustering Optimal Finalized Model Implementation"
      ],
      "metadata": {
        "id": "FPgbNJ2O0xT4"
      }
    },
    {
      "cell_type": "markdown",
      "source": [
        "### 7.1 GMM Clustering Optimal Finalized Model Configuration, Definition and Fitting"
      ],
      "metadata": {
        "id": "6r2_7MIn07PB"
      }
    },
    {
      "cell_type": "code",
      "source": [
        "# GMM Clustering Optimal Finalized Model Configuration, Definition and Fitting\n",
        "\n",
        "# GMM Clutering Model Parameters Configuration\n",
        "\n",
        "# Optimal Finalized Number of Components/Segments/Clusters Identified Using the BIC Method\n",
        "n_components = 3\n",
        "\n",
        "covariance_type = \"full\"\n",
        "tol = 0.001\n",
        "reg_covar = 0.000001\n",
        "max_iter = 100\n",
        "n_init = 1\n",
        "init_params = \"kmeans\"\n",
        "weights_init = None\n",
        "means_init = None\n",
        "precisions_init = None\n",
        "random_state = None\n",
        "warm_start = False\n",
        "verbose = 0\n",
        "verbose_interval = 10\n",
        "\n",
        "print(\"GMM Clustering Optimal Model Training For BIC Started...\")\n",
        "\n",
        "# GMM Clustering Optimal Finalized Model Definition\n",
        "gmm_model_optimal = GMM(n_components=n_components, covariance_type=covariance_type, tol=tol, reg_covar=reg_covar, \n",
        "                        max_iter=max_iter, n_init=n_init, init_params=init_params, weights_init=weights_init, \n",
        "                        means_init=means_init, precisions_init=precisions_init, random_state=random_state, \n",
        "                        warm_start=warm_start, verbose=verbose, verbose_interval=verbose_interval)\n",
        "\n",
        "# GMM Clustering Optimal Finalized Model Fitting\n",
        "gmm_model_optimal.fit(image2_reshape)\n",
        "\n",
        "print(\"GMM Clustering Optimal Model Training For BIC Completed...\")"
      ],
      "metadata": {
        "colab": {
          "base_uri": "https://localhost:8080/"
        },
        "id": "_61_2sL61GZZ",
        "outputId": "50a48e01-ca28-4ae1-9598-7d159999e089"
      },
      "execution_count": 65,
      "outputs": [
        {
          "output_type": "stream",
          "name": "stdout",
          "text": [
            "GMM Clustering Optimal Model Training For BIC Started...\n",
            "GMM Clustering Optimal Model Training For BIC Completed...\n"
          ]
        }
      ]
    },
    {
      "cell_type": "markdown",
      "source": [
        "### 7.2 GMM Clustering Optimal Finalized Model Predictions"
      ],
      "metadata": {
        "id": "2yh2yQp51e7I"
      }
    },
    {
      "cell_type": "code",
      "source": [
        "# Evaluating the Predictions of the GMM Clustering Optimal Finalized Model\n",
        "\n",
        "gmm_image2_optimal_predictions = gmm_model_optimal.predict(image2_reshape)\n",
        "\n",
        "print(\"Execution Completed\")"
      ],
      "metadata": {
        "colab": {
          "base_uri": "https://localhost:8080/"
        },
        "id": "OAhn9-S51lni",
        "outputId": "533c1572-3649-44d7-e1ea-a2bf5d2b620a"
      },
      "execution_count": 66,
      "outputs": [
        {
          "output_type": "stream",
          "name": "stdout",
          "text": [
            "Execution Completed\n"
          ]
        }
      ]
    },
    {
      "cell_type": "code",
      "source": [
        "# Displaying the Predictions of the GMM Clustering Optimal Finalized Model\n",
        "\n",
        "gmm_image2_optimal_predictions"
      ],
      "metadata": {
        "colab": {
          "base_uri": "https://localhost:8080/"
        },
        "id": "82OWsE9R5KMy",
        "outputId": "3dd94e7b-2df4-40de-a6ef-bd857f24673d"
      },
      "execution_count": 68,
      "outputs": [
        {
          "output_type": "execute_result",
          "data": {
            "text/plain": [
              "array([1, 1, 1, ..., 1, 1, 1])"
            ]
          },
          "metadata": {},
          "execution_count": 68
        }
      ]
    },
    {
      "cell_type": "markdown",
      "source": [
        "### 7.3 Reshaping the Original Image with the Predicted Cluster Labels of the Optimal Finalized GMM Clustering Model"
      ],
      "metadata": {
        "id": "WAGaSU-X13_R"
      }
    },
    {
      "cell_type": "code",
      "source": [
        "# Reshaping the Original Image with the Predicted Cluster Labels of the Optimal Finalized GMM Clustering Model\n",
        "\n",
        "segmented_array2_optimal = gmm_image2_optimal_predictions.reshape(original_image2_shape[0], original_image2_shape[1])\n",
        "\n",
        "# Displaying the Segmented Array with Predictions of the Optimal Finalized GMM Clustering Model\n",
        "segmented_array2_optimal"
      ],
      "metadata": {
        "colab": {
          "base_uri": "https://localhost:8080/"
        },
        "id": "VJXQohQy2Kpb",
        "outputId": "971c47fd-4cfd-42f3-a854-7ac056a9b767"
      },
      "execution_count": 70,
      "outputs": [
        {
          "output_type": "execute_result",
          "data": {
            "text/plain": [
              "array([[1, 1, 1, ..., 0, 0, 0],\n",
              "       [1, 1, 1, ..., 0, 0, 0],\n",
              "       [1, 1, 1, ..., 0, 0, 0],\n",
              "       ...,\n",
              "       [0, 0, 0, ..., 1, 1, 1],\n",
              "       [0, 0, 0, ..., 1, 1, 1],\n",
              "       [0, 0, 0, ..., 1, 1, 1]])"
            ]
          },
          "metadata": {},
          "execution_count": 70
        }
      ]
    },
    {
      "cell_type": "code",
      "source": [
        "# Verifying the Shape of the Segmented Array with Predictions of the Optimal Finalized GMM Clustering Model\n",
        "\n",
        "segmented_array2_optimal.shape"
      ],
      "metadata": {
        "colab": {
          "base_uri": "https://localhost:8080/"
        },
        "id": "OWeP0GkB3BY4",
        "outputId": "bbe4b843-dc4c-404a-badd-8f19d96fcbf1"
      },
      "execution_count": 71,
      "outputs": [
        {
          "output_type": "execute_result",
          "data": {
            "text/plain": [
              "(630, 1200)"
            ]
          },
          "metadata": {},
          "execution_count": 71
        }
      ]
    },
    {
      "cell_type": "code",
      "source": [
        "# Verifying the First Data Instance of the Segmented Array with Predictions of the Optimal Finalized GMM Clustering Model\n",
        "\n",
        "segmented_array2_optimal[0]"
      ],
      "metadata": {
        "colab": {
          "base_uri": "https://localhost:8080/"
        },
        "id": "LkXtrfeS3B31",
        "outputId": "b99ef54b-dd10-4e4e-d216-2fe183c5e536"
      },
      "execution_count": 72,
      "outputs": [
        {
          "output_type": "execute_result",
          "data": {
            "text/plain": [
              "array([1, 1, 1, ..., 0, 0, 0])"
            ]
          },
          "metadata": {},
          "execution_count": 72
        }
      ]
    },
    {
      "cell_type": "code",
      "source": [
        "# Verifying the Shape of the First Data Instance of the Segmented Array with Predictions of the Optimal Finalized GMM Clustering Model\n",
        "\n",
        "segmented_array2_optimal[0].shape"
      ],
      "metadata": {
        "colab": {
          "base_uri": "https://localhost:8080/"
        },
        "id": "V92oxh773CLU",
        "outputId": "a7d05eb5-b442-40d0-df56-161a8b5b81c8"
      },
      "execution_count": 73,
      "outputs": [
        {
          "output_type": "execute_result",
          "data": {
            "text/plain": [
              "(1200,)"
            ]
          },
          "metadata": {},
          "execution_count": 73
        }
      ]
    },
    {
      "cell_type": "markdown",
      "source": [
        "### 7.4 Visualizing the Segmented Image with Clusters for the Optimal Finalized GMM Clustering Model"
      ],
      "metadata": {
        "id": "ALN8nyfA3iG6"
      }
    },
    {
      "cell_type": "code",
      "source": [
        "# Visualizing the Segmented Image with Clusters for the Optimal Finalized GMM Clustering Model\n",
        "\n",
        "segmented_image2_optimal = cv2.imwrite(\"/content/drive/MyDrive/~~~VP_Data_Science/DS_Real_Time_Projects/Image_Segmentation_Using_UnSupervised_Gaussian_Mixture_Model_GMM_Clustering/results/segmented_optimal_plant_cells.jpg\", segmented_array2_optimal)\n",
        "\n",
        "print(\"Optimal Segmented Image Export Completed\")"
      ],
      "metadata": {
        "colab": {
          "base_uri": "https://localhost:8080/"
        },
        "id": "YX57Mirr3iPX",
        "outputId": "833aac88-880d-4ce9-9496-1be1f96decee"
      },
      "execution_count": 74,
      "outputs": [
        {
          "output_type": "stream",
          "name": "stdout",
          "text": [
            "Optimal Segmented Image Export Completed\n"
          ]
        }
      ]
    }
  ]
}