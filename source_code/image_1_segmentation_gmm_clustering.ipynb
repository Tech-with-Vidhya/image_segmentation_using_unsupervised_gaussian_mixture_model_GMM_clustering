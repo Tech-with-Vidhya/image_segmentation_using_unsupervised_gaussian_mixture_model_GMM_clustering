{
  "nbformat": 4,
  "nbformat_minor": 0,
  "metadata": {
    "colab": {
      "name": "image_1_segmentation_gmm_clustering.ipynb",
      "provenance": [],
      "collapsed_sections": [],
      "machine_shape": "hm"
    },
    "kernelspec": {
      "name": "python3",
      "display_name": "Python 3"
    },
    "language_info": {
      "name": "python"
    },
    "accelerator": "GPU"
  },
  "cells": [
    {
      "cell_type": "markdown",
      "source": [
        "# IMAGE SEGMENTATION USING UNSUPERVISED GAUSSIAN MIXTURE MODEL (GMM) CLUSTERING"
      ],
      "metadata": {
        "id": "gEdN3ne_RHp4"
      }
    },
    {
      "cell_type": "markdown",
      "source": [
        "Rock Image"
      ],
      "metadata": {
        "id": "GjlJcU7boTR8"
      }
    },
    {
      "cell_type": "markdown",
      "source": [
        "## 1. Importing Python Libraries"
      ],
      "metadata": {
        "id": "YaN2ghGNRREU"
      }
    },
    {
      "cell_type": "code",
      "source": [
        "import numpy as np\n",
        "import cv2\n",
        "\n",
        "from sklearn.mixture import GaussianMixture as GMM\n",
        "\n",
        "print(\"Python Libraries Import Completed\")"
      ],
      "metadata": {
        "colab": {
          "base_uri": "https://localhost:8080/"
        },
        "id": "EKxle5PuRWln",
        "outputId": "b3908418-59d5-4d6b-80d7-6b57eb306007"
      },
      "execution_count": 1,
      "outputs": [
        {
          "output_type": "stream",
          "name": "stdout",
          "text": [
            "Python Libraries Import Completed\n"
          ]
        }
      ]
    },
    {
      "cell_type": "markdown",
      "source": [
        "## 2. Importing the Image File"
      ],
      "metadata": {
        "id": "8sMdNRfRTp7b"
      }
    },
    {
      "cell_type": "code",
      "source": [
        "# Importing Image\n",
        "image1 = cv2.imread(\"/content/drive/MyDrive/~~~VP_Data_Science/DS_Real_Time_Projects/Image_Segmentation_Using_UnSupervised_Gaussian_Mixture_Model_GMM_Clustering/data/rock.jpg\")\n",
        "\n",
        "print(\"Image Import Completed\")"
      ],
      "metadata": {
        "colab": {
          "base_uri": "https://localhost:8080/"
        },
        "id": "E8dRJfIbTsR5",
        "outputId": "ddffa588-8970-42a3-f73a-20d23e254509"
      },
      "execution_count": 2,
      "outputs": [
        {
          "output_type": "stream",
          "name": "stdout",
          "text": [
            "Image Import Completed\n"
          ]
        }
      ]
    },
    {
      "cell_type": "markdown",
      "source": [
        "## 3. Image Exploration"
      ],
      "metadata": {
        "id": "ODw0NUMNUP-R"
      }
    },
    {
      "cell_type": "code",
      "source": [
        "# Displaying the Imported Image\n",
        "\n",
        "image1"
      ],
      "metadata": {
        "colab": {
          "base_uri": "https://localhost:8080/"
        },
        "id": "fMhvuXWXUZuT",
        "outputId": "84e2fe02-dc98-4459-c4c9-dafedc84bbb5"
      },
      "execution_count": 3,
      "outputs": [
        {
          "output_type": "execute_result",
          "data": {
            "text/plain": [
              "array([[[ 66,  66,  66],\n",
              "        [ 59,  59,  59],\n",
              "        [ 88,  88,  88],\n",
              "        ...,\n",
              "        [100, 100, 100],\n",
              "        [ 35,  35,  35],\n",
              "        [ 34,  34,  34]],\n",
              "\n",
              "       [[ 51,  51,  51],\n",
              "        [ 45,  45,  45],\n",
              "        [127, 127, 127],\n",
              "        ...,\n",
              "        [ 98,  98,  98],\n",
              "        [117, 117, 117],\n",
              "        [ 52,  52,  52]],\n",
              "\n",
              "       [[ 94,  94,  94],\n",
              "        [ 69,  69,  69],\n",
              "        [ 75,  75,  75],\n",
              "        ...,\n",
              "        [ 95,  95,  95],\n",
              "        [127, 127, 127],\n",
              "        [  6,   6,   6]],\n",
              "\n",
              "       ...,\n",
              "\n",
              "       [[130, 130, 130],\n",
              "        [141, 141, 141],\n",
              "        [106, 106, 106],\n",
              "        ...,\n",
              "        [114, 114, 114],\n",
              "        [204, 204, 204],\n",
              "        [190, 190, 190]],\n",
              "\n",
              "       [[108, 108, 108],\n",
              "        [122, 122, 122],\n",
              "        [103, 103, 103],\n",
              "        ...,\n",
              "        [104, 104, 104],\n",
              "        [187, 187, 187],\n",
              "        [ 85,  85,  85]],\n",
              "\n",
              "       [[ 91,  91,  91],\n",
              "        [133, 133, 133],\n",
              "        [133, 133, 133],\n",
              "        ...,\n",
              "        [134, 134, 134],\n",
              "        [ 79,  79,  79],\n",
              "        [ 90,  90,  90]]], dtype=uint8)"
            ]
          },
          "metadata": {},
          "execution_count": 3
        }
      ]
    },
    {
      "cell_type": "code",
      "source": [
        "# Verifying the Type of the Image\n",
        "\n",
        "type(image1)"
      ],
      "metadata": {
        "colab": {
          "base_uri": "https://localhost:8080/"
        },
        "id": "jgTUTlUcUo0J",
        "outputId": "1cbefbe6-f0f4-40f7-8ead-fd43844e4441"
      },
      "execution_count": 4,
      "outputs": [
        {
          "output_type": "execute_result",
          "data": {
            "text/plain": [
              "numpy.ndarray"
            ]
          },
          "metadata": {},
          "execution_count": 4
        }
      ]
    },
    {
      "cell_type": "code",
      "source": [
        "# Verifying the Shape of the Image\n",
        "\n",
        "image1.shape"
      ],
      "metadata": {
        "colab": {
          "base_uri": "https://localhost:8080/"
        },
        "id": "YH3DfZoDU1nE",
        "outputId": "d105ff10-c998-4840-be07-241d5a1dc109"
      },
      "execution_count": 5,
      "outputs": [
        {
          "output_type": "execute_result",
          "data": {
            "text/plain": [
              "(861, 1024, 3)"
            ]
          },
          "metadata": {},
          "execution_count": 5
        }
      ]
    },
    {
      "cell_type": "markdown",
      "source": [
        "## 4. Image Pre-Processing (Reshaping)"
      ],
      "metadata": {
        "id": "oCN-sqpRVEHF"
      }
    },
    {
      "cell_type": "code",
      "source": [
        "# Reshaping the Image\n",
        "\n",
        "#image1_reshape = image1.reshape(861, 1024, 3)\n",
        "image1_reshape = image1.reshape((-1, 3))\n",
        "\n",
        "print(\"Execution Completed\")"
      ],
      "metadata": {
        "colab": {
          "base_uri": "https://localhost:8080/"
        },
        "id": "FF2DDCQsVKo5",
        "outputId": "8e2eed04-1321-497c-8315-e45eaf76d225"
      },
      "execution_count": 6,
      "outputs": [
        {
          "output_type": "stream",
          "name": "stdout",
          "text": [
            "Execution Completed\n"
          ]
        }
      ]
    },
    {
      "cell_type": "code",
      "source": [
        "# Displaying the Reshaped Image\n",
        "image1_reshape"
      ],
      "metadata": {
        "colab": {
          "base_uri": "https://localhost:8080/"
        },
        "id": "zxljrmNKVSjd",
        "outputId": "e006e5af-2619-4572-e167-6668b0c858c0"
      },
      "execution_count": 7,
      "outputs": [
        {
          "output_type": "execute_result",
          "data": {
            "text/plain": [
              "array([[ 66,  66,  66],\n",
              "       [ 59,  59,  59],\n",
              "       [ 88,  88,  88],\n",
              "       ...,\n",
              "       [134, 134, 134],\n",
              "       [ 79,  79,  79],\n",
              "       [ 90,  90,  90]], dtype=uint8)"
            ]
          },
          "metadata": {},
          "execution_count": 7
        }
      ]
    },
    {
      "cell_type": "code",
      "source": [
        "# Verifying the Type of the Reshaped Image\n",
        "\n",
        "type(image1_reshape)"
      ],
      "metadata": {
        "colab": {
          "base_uri": "https://localhost:8080/"
        },
        "id": "PCQpsQ6DVaxI",
        "outputId": "bd715f6b-1e99-4461-a06c-80c5098b163f"
      },
      "execution_count": 8,
      "outputs": [
        {
          "output_type": "execute_result",
          "data": {
            "text/plain": [
              "numpy.ndarray"
            ]
          },
          "metadata": {},
          "execution_count": 8
        }
      ]
    },
    {
      "cell_type": "code",
      "source": [
        "# Verifying the Shape of the Reshaped Image\n",
        "\n",
        "image1_reshape.shape"
      ],
      "metadata": {
        "colab": {
          "base_uri": "https://localhost:8080/"
        },
        "id": "V8ZjhOBAVa7O",
        "outputId": "c9470039-0fc2-4e95-8f13-c2ccfa15545d"
      },
      "execution_count": 9,
      "outputs": [
        {
          "output_type": "execute_result",
          "data": {
            "text/plain": [
              "(881664, 3)"
            ]
          },
          "metadata": {},
          "execution_count": 9
        }
      ]
    },
    {
      "cell_type": "markdown",
      "source": [
        "## 5. UnSupervised Clustering - Gaussian Mixture Model Fitting"
      ],
      "metadata": {
        "id": "nbYAWM3pWRTO"
      }
    },
    {
      "cell_type": "markdown",
      "source": [
        "### 5.1 GMM Clustering Default Parameters Configuration"
      ],
      "metadata": {
        "id": "ajOxc8EVWyg2"
      }
    },
    {
      "cell_type": "code",
      "source": [
        "# GMM Parameters Initial Configuration\n",
        "\n",
        "n_components = 4\n",
        "covariance_type = \"full\"\n",
        "tol = 0.001\n",
        "reg_covar = 0.000001\n",
        "max_iter = 100\n",
        "n_init = 1\n",
        "init_params = \"kmeans\"\n",
        "weights_init = None\n",
        "means_init = None\n",
        "precisions_init = None\n",
        "random_state = None\n",
        "warm_start = False\n",
        "verbose = 0\n",
        "verbose_interval = 10\n",
        "\n",
        "print(\"Execution Completed\")"
      ],
      "metadata": {
        "colab": {
          "base_uri": "https://localhost:8080/"
        },
        "id": "xm0NBoZjWZiT",
        "outputId": "368e1cd4-0883-4396-d6c7-6a12a895b8b7"
      },
      "execution_count": 33,
      "outputs": [
        {
          "output_type": "stream",
          "name": "stdout",
          "text": [
            "Execution Completed\n"
          ]
        }
      ]
    },
    {
      "cell_type": "markdown",
      "source": [
        "### 5.2 GMM Clustering Model Definition and Initiation"
      ],
      "metadata": {
        "id": "J5kuctJPXWko"
      }
    },
    {
      "cell_type": "code",
      "source": [
        "# Defining and Initiating an Instance of GMM Clustering Model\n",
        "\n",
        "gmm_model = GMM(n_components=n_components, covariance_type=covariance_type, tol=tol, reg_covar=reg_covar, \n",
        "                 max_iter=max_iter, n_init=n_init, init_params=init_params, weights_init=weights_init, \n",
        "                 means_init=means_init, precisions_init=precisions_init, random_state=random_state, \n",
        "                 warm_start=warm_start, verbose=verbose, verbose_interval=verbose_interval)\n",
        "\n",
        "print(\"Execution Completed\")"
      ],
      "metadata": {
        "colab": {
          "base_uri": "https://localhost:8080/"
        },
        "id": "LdUmQRzxXer-",
        "outputId": "85584668-b9d0-4d03-fe32-286ec700095e"
      },
      "execution_count": 34,
      "outputs": [
        {
          "output_type": "stream",
          "name": "stdout",
          "text": [
            "Execution Completed\n"
          ]
        }
      ]
    },
    {
      "cell_type": "markdown",
      "source": [
        "### 5.3 GMM Clustering Model Fitting"
      ],
      "metadata": {
        "id": "s3uphdfUYPnG"
      }
    },
    {
      "cell_type": "code",
      "source": [
        "# Fitting the GMM Clustering Model\n",
        "\n",
        "print(\"GMM Clustering Model Training Started...\")\n",
        "\n",
        "gmm_model.fit(image1_reshape)\n",
        "\n",
        "print(\"GMM Clustering Model Training Completed...\")"
      ],
      "metadata": {
        "colab": {
          "base_uri": "https://localhost:8080/"
        },
        "id": "ZARGXcfjYUp5",
        "outputId": "e767df4e-c6ac-479f-85bb-6fb9feebacac"
      },
      "execution_count": 35,
      "outputs": [
        {
          "output_type": "stream",
          "name": "stdout",
          "text": [
            "GMM Clustering Model Training Started...\n",
            "GMM Clustering Model Training Completed...\n"
          ]
        }
      ]
    },
    {
      "cell_type": "markdown",
      "source": [
        "### 5.3 GMM Clustering Model Predictions"
      ],
      "metadata": {
        "id": "CgodpKP-YqAR"
      }
    },
    {
      "cell_type": "code",
      "source": [
        "# Evaluating the GMM Clustering Model Predictions\n",
        "\n",
        "gmm_image1_predictions = gmm_model.predict(image1_reshape)\n",
        "\n",
        "print(\"Execution Completed\")"
      ],
      "metadata": {
        "colab": {
          "base_uri": "https://localhost:8080/"
        },
        "id": "W8feozmYYwSf",
        "outputId": "cda02c37-b0ac-48af-c79d-16b58c73819e"
      },
      "execution_count": 36,
      "outputs": [
        {
          "output_type": "stream",
          "name": "stdout",
          "text": [
            "Execution Completed\n"
          ]
        }
      ]
    },
    {
      "cell_type": "code",
      "source": [
        "# Displaying the Prediction Results\n",
        "\n",
        "gmm_image1_predictions"
      ],
      "metadata": {
        "colab": {
          "base_uri": "https://localhost:8080/"
        },
        "id": "9bWW7lxmZEb_",
        "outputId": "442a0a28-37bd-45c9-c67c-f2bb957142cd"
      },
      "execution_count": 37,
      "outputs": [
        {
          "output_type": "execute_result",
          "data": {
            "text/plain": [
              "array([2, 2, 0, ..., 3, 0, 0])"
            ]
          },
          "metadata": {},
          "execution_count": 37
        }
      ]
    },
    {
      "cell_type": "code",
      "source": [
        "# verifying the Shape of the Predictions Array\n",
        "\n",
        "gmm_image1_predictions.shape"
      ],
      "metadata": {
        "colab": {
          "base_uri": "https://localhost:8080/"
        },
        "id": "0Aww5BOBelG6",
        "outputId": "39d423c4-7111-4935-f5cd-5c6e88f1d7f9"
      },
      "execution_count": 38,
      "outputs": [
        {
          "output_type": "execute_result",
          "data": {
            "text/plain": [
              "(881664,)"
            ]
          },
          "metadata": {},
          "execution_count": 38
        }
      ]
    },
    {
      "cell_type": "markdown",
      "source": [
        "### 5.4 Evaluating the Predictions Results"
      ],
      "metadata": {
        "id": "Dtup1dhOeHxF"
      }
    },
    {
      "cell_type": "code",
      "source": [
        "# Extracting the Original Image Shape before Reshaping\n",
        "original_image1_shape = image1.shape\n",
        "\n",
        "original_image1_shape"
      ],
      "metadata": {
        "colab": {
          "base_uri": "https://localhost:8080/"
        },
        "id": "hrF8PgUeeOHn",
        "outputId": "5ac48994-4ec4-48b0-b80a-2fea3d499c88"
      },
      "execution_count": 39,
      "outputs": [
        {
          "output_type": "execute_result",
          "data": {
            "text/plain": [
              "(861, 1024, 3)"
            ]
          },
          "metadata": {},
          "execution_count": 39
        }
      ]
    },
    {
      "cell_type": "code",
      "source": [
        "original_image1_shape[0]"
      ],
      "metadata": {
        "colab": {
          "base_uri": "https://localhost:8080/"
        },
        "id": "0rtp2VVAfxtR",
        "outputId": "3cfb9815-44c6-4a39-d3a9-a9c0306904ed"
      },
      "execution_count": 40,
      "outputs": [
        {
          "output_type": "execute_result",
          "data": {
            "text/plain": [
              "861"
            ]
          },
          "metadata": {},
          "execution_count": 40
        }
      ]
    },
    {
      "cell_type": "code",
      "source": [
        "original_image1_shape[1]"
      ],
      "metadata": {
        "colab": {
          "base_uri": "https://localhost:8080/"
        },
        "id": "tL1IHz9lfx3u",
        "outputId": "f7838962-5322-4bdd-c7dd-188e64ffdbc4"
      },
      "execution_count": 41,
      "outputs": [
        {
          "output_type": "execute_result",
          "data": {
            "text/plain": [
              "1024"
            ]
          },
          "metadata": {},
          "execution_count": 41
        }
      ]
    },
    {
      "cell_type": "code",
      "source": [
        "original_image1_shape[2]"
      ],
      "metadata": {
        "colab": {
          "base_uri": "https://localhost:8080/"
        },
        "id": "KB5eNRxhfyFz",
        "outputId": "ce7d0779-b855-4bd5-c0a9-416ad09e09c8"
      },
      "execution_count": 42,
      "outputs": [
        {
          "output_type": "execute_result",
          "data": {
            "text/plain": [
              "3"
            ]
          },
          "metadata": {},
          "execution_count": 42
        }
      ]
    },
    {
      "cell_type": "code",
      "source": [
        "# Reshaping the Original Image with the Predicted Cluster Labels\n",
        "\n",
        "segmented_array1 = gmm_predictions.reshape(original_image1_shape[0], original_image1_shape[1])\n",
        "\n",
        "print(\"Execution Completed\")"
      ],
      "metadata": {
        "colab": {
          "base_uri": "https://localhost:8080/"
        },
        "id": "5Vkf3L0Jec1y",
        "outputId": "ffe4db2c-bcd6-4b48-f615-9eb351c7ce59"
      },
      "execution_count": 43,
      "outputs": [
        {
          "output_type": "stream",
          "name": "stdout",
          "text": [
            "Execution Completed\n"
          ]
        }
      ]
    },
    {
      "cell_type": "code",
      "source": [
        "# Displaying the Reshaped Segmented Array with Predictions \n",
        "\n",
        "segmented_array1"
      ],
      "metadata": {
        "colab": {
          "base_uri": "https://localhost:8080/"
        },
        "id": "_AKzO7KxgP04",
        "outputId": "e1618c88-db5b-4356-f13a-c161c359b788"
      },
      "execution_count": 44,
      "outputs": [
        {
          "output_type": "execute_result",
          "data": {
            "text/plain": [
              "array([[2, 2, 0, ..., 0, 2, 2],\n",
              "       [2, 2, 0, ..., 0, 0, 2],\n",
              "       [0, 2, 2, ..., 0, 0, 2],\n",
              "       ...,\n",
              "       [0, 3, 0, ..., 0, 1, 1],\n",
              "       [0, 0, 0, ..., 0, 1, 0],\n",
              "       [0, 3, 3, ..., 3, 2, 0]])"
            ]
          },
          "metadata": {},
          "execution_count": 44
        }
      ]
    },
    {
      "cell_type": "code",
      "source": [
        "# Verifying the Shape of the Reshaped Segmented Array with Predictions \n",
        "\n",
        "segmented_array1.shape"
      ],
      "metadata": {
        "colab": {
          "base_uri": "https://localhost:8080/"
        },
        "id": "ipsosyZYgYEf",
        "outputId": "2245613d-4f17-443d-8007-f4899fbd09e2"
      },
      "execution_count": 45,
      "outputs": [
        {
          "output_type": "execute_result",
          "data": {
            "text/plain": [
              "(861, 1024)"
            ]
          },
          "metadata": {},
          "execution_count": 45
        }
      ]
    },
    {
      "cell_type": "code",
      "source": [
        "# Verifying the First Data Instance of the Reshaped Segmented Array with Predictions \n",
        "\n",
        "segmented_array1[0]"
      ],
      "metadata": {
        "colab": {
          "base_uri": "https://localhost:8080/"
        },
        "id": "3n7_-vBGgt0G",
        "outputId": "dd0a9efa-b8fa-420c-80bb-28b587722b1e"
      },
      "execution_count": 46,
      "outputs": [
        {
          "output_type": "execute_result",
          "data": {
            "text/plain": [
              "array([2, 2, 0, ..., 0, 2, 2])"
            ]
          },
          "metadata": {},
          "execution_count": 46
        }
      ]
    },
    {
      "cell_type": "code",
      "source": [
        "# Verifying the First Data Instance of the Reshaped Segmented Array with Predictions \n",
        "\n",
        "segmented_array1[0].shape"
      ],
      "metadata": {
        "colab": {
          "base_uri": "https://localhost:8080/"
        },
        "id": "VmyInR7Yg2Tq",
        "outputId": "54988713-cdec-491e-8970-d46d03f0b2f5"
      },
      "execution_count": 47,
      "outputs": [
        {
          "output_type": "execute_result",
          "data": {
            "text/plain": [
              "(1024,)"
            ]
          },
          "metadata": {},
          "execution_count": 47
        }
      ]
    },
    {
      "cell_type": "markdown",
      "source": [
        "### 5.5 Visualizing the Segmented Image with Clusters"
      ],
      "metadata": {
        "id": "rNVPwGHchSpd"
      }
    },
    {
      "cell_type": "code",
      "source": [
        "# Visualizing the Segmented Image\n",
        "\n",
        "segmented_image1 = cv2.imwrite(\"/content/drive/MyDrive/~~~VP_Data_Science/DS_Real_Time_Projects/Image_Segmentation_Using_UnSupervised_Gaussian_Mixture_Model_GMM_Clustering/results/segmented_rock.jpg\", segmented_array1)\n",
        "\n",
        "print(\"Segmented Image Export Completed\")"
      ],
      "metadata": {
        "colab": {
          "base_uri": "https://localhost:8080/"
        },
        "id": "QRi3xEOZhQrc",
        "outputId": "0caeadda-4300-4b71-836d-6afeb32f7672"
      },
      "execution_count": 48,
      "outputs": [
        {
          "output_type": "stream",
          "name": "stdout",
          "text": [
            "Segmented Image Export Completed\n"
          ]
        }
      ]
    }
  ]
}